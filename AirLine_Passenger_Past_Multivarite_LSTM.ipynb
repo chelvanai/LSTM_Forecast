{
  "nbformat": 4,
  "nbformat_minor": 0,
  "metadata": {
    "colab": {
      "name": "AirLine_Passenger_Past_Multivarite_LSTM.ipynb",
      "provenance": [],
      "collapsed_sections": []
    },
    "kernelspec": {
      "name": "python3",
      "display_name": "Python 3"
    },
    "language_info": {
      "name": "python"
    }
  },
  "cells": [
    {
      "cell_type": "code",
      "metadata": {
        "id": "44rBWjUyjgPJ"
      },
      "source": [
        "import pandas as pd\n",
        "import numpy as np\n",
        "from sklearn import preprocessing\n",
        "from sklearn.preprocessing import MinMaxScaler\n",
        "from sklearn.model_selection import train_test_split\n",
        "import tensorflow as tf\n",
        "from tensorflow.keras.preprocessing.sequence import TimeseriesGenerator\n",
        "import matplotlib.pyplot as plt"
      ],
      "execution_count": 33,
      "outputs": []
    },
    {
      "cell_type": "code",
      "metadata": {
        "id": "P5ImuGErlFOe"
      },
      "source": [
        "df = pd.read_csv('/content/airline-passengers.csv')"
      ],
      "execution_count": 10,
      "outputs": []
    },
    {
      "cell_type": "code",
      "metadata": {
        "colab": {
          "base_uri": "https://localhost:8080/",
          "height": 206
        },
        "id": "Z9oplPg0lFR6",
        "outputId": "e478ea4c-d1aa-4c71-dfb5-a208710031e9"
      },
      "source": [
        "df.head()"
      ],
      "execution_count": 11,
      "outputs": [
        {
          "output_type": "execute_result",
          "data": {
            "text/html": [
              "<div>\n",
              "<style scoped>\n",
              "    .dataframe tbody tr th:only-of-type {\n",
              "        vertical-align: middle;\n",
              "    }\n",
              "\n",
              "    .dataframe tbody tr th {\n",
              "        vertical-align: top;\n",
              "    }\n",
              "\n",
              "    .dataframe thead th {\n",
              "        text-align: right;\n",
              "    }\n",
              "</style>\n",
              "<table border=\"1\" class=\"dataframe\">\n",
              "  <thead>\n",
              "    <tr style=\"text-align: right;\">\n",
              "      <th></th>\n",
              "      <th>Month</th>\n",
              "      <th>Passengers</th>\n",
              "    </tr>\n",
              "  </thead>\n",
              "  <tbody>\n",
              "    <tr>\n",
              "      <th>0</th>\n",
              "      <td>1949-01</td>\n",
              "      <td>112</td>\n",
              "    </tr>\n",
              "    <tr>\n",
              "      <th>1</th>\n",
              "      <td>1949-02</td>\n",
              "      <td>118</td>\n",
              "    </tr>\n",
              "    <tr>\n",
              "      <th>2</th>\n",
              "      <td>1949-03</td>\n",
              "      <td>132</td>\n",
              "    </tr>\n",
              "    <tr>\n",
              "      <th>3</th>\n",
              "      <td>1949-04</td>\n",
              "      <td>129</td>\n",
              "    </tr>\n",
              "    <tr>\n",
              "      <th>4</th>\n",
              "      <td>1949-05</td>\n",
              "      <td>121</td>\n",
              "    </tr>\n",
              "  </tbody>\n",
              "</table>\n",
              "</div>"
            ],
            "text/plain": [
              "     Month  Passengers\n",
              "0  1949-01         112\n",
              "1  1949-02         118\n",
              "2  1949-03         132\n",
              "3  1949-04         129\n",
              "4  1949-05         121"
            ]
          },
          "metadata": {},
          "execution_count": 11
        }
      ]
    },
    {
      "cell_type": "code",
      "metadata": {
        "colab": {
          "base_uri": "https://localhost:8080/",
          "height": 282
        },
        "id": "ESnHuCLvlFT7",
        "outputId": "b4d92a59-764e-4a76-f807-016e71e536ab"
      },
      "source": [
        "df.plot()"
      ],
      "execution_count": 12,
      "outputs": [
        {
          "output_type": "execute_result",
          "data": {
            "text/plain": [
              "<matplotlib.axes._subplots.AxesSubplot at 0x7f388139ded0>"
            ]
          },
          "metadata": {},
          "execution_count": 12
        },
        {
          "output_type": "display_data",
          "data": {
            "image/png": "[encoded data removed]",
            "text/plain": [
              "<Figure size 432x288 with 1 Axes>"
            ]
          },
          "metadata": {
            "needs_background": "light"
          }
        }
      ]
    },
    {
      "cell_type": "code",
      "metadata": {
        "id": "xOB0xyuHmTLO"
      },
      "source": [
        "le = preprocessing.LabelEncoder()"
      ],
      "execution_count": 15,
      "outputs": []
    },
    {
      "cell_type": "code",
      "metadata": {
        "id": "CE6AQCMnlFWw"
      },
      "source": [
        "year = pd.DatetimeIndex(df['Month']).year\n",
        "year_series = np.array(year)\n",
        "year_series = le.fit_transform(year_series)"
      ],
      "execution_count": 16,
      "outputs": []
    },
    {
      "cell_type": "code",
      "metadata": {
        "id": "IAsrjJlDlFgw"
      },
      "source": [
        "month = pd.DatetimeIndex(df['Month']).month\n",
        "month_series = np.array(month)\n",
        "month_series = le.fit_transform(month_series)"
      ],
      "execution_count": 17,
      "outputs": []
    },
    {
      "cell_type": "code",
      "metadata": {
        "colab": {
          "base_uri": "https://localhost:8080/",
          "height": 206
        },
        "id": "u_QCJSDClFpP",
        "outputId": "3c2f4caf-4a3c-4b8e-8c4c-1472f011380b"
      },
      "source": [
        "df_new = pd.concat([pd.Series(year_series),pd.Series(month_series),df['Passengers']],axis=1)\n",
        "df_new.head()"
      ],
      "execution_count": 68,
      "outputs": [
        {
          "output_type": "execute_result",
          "data": {
            "text/html": [
              "<div>\n",
              "<style scoped>\n",
              "    .dataframe tbody tr th:only-of-type {\n",
              "        vertical-align: middle;\n",
              "    }\n",
              "\n",
              "    .dataframe tbody tr th {\n",
              "        vertical-align: top;\n",
              "    }\n",
              "\n",
              "    .dataframe thead th {\n",
              "        text-align: right;\n",
              "    }\n",
              "</style>\n",
              "<table border=\"1\" class=\"dataframe\">\n",
              "  <thead>\n",
              "    <tr style=\"text-align: right;\">\n",
              "      <th></th>\n",
              "      <th>0</th>\n",
              "      <th>1</th>\n",
              "      <th>Passengers</th>\n",
              "    </tr>\n",
              "  </thead>\n",
              "  <tbody>\n",
              "    <tr>\n",
              "      <th>0</th>\n",
              "      <td>0</td>\n",
              "      <td>0</td>\n",
              "      <td>112</td>\n",
              "    </tr>\n",
              "    <tr>\n",
              "      <th>1</th>\n",
              "      <td>0</td>\n",
              "      <td>1</td>\n",
              "      <td>118</td>\n",
              "    </tr>\n",
              "    <tr>\n",
              "      <th>2</th>\n",
              "      <td>0</td>\n",
              "      <td>2</td>\n",
              "      <td>132</td>\n",
              "    </tr>\n",
              "    <tr>\n",
              "      <th>3</th>\n",
              "      <td>0</td>\n",
              "      <td>3</td>\n",
              "      <td>129</td>\n",
              "    </tr>\n",
              "    <tr>\n",
              "      <th>4</th>\n",
              "      <td>0</td>\n",
              "      <td>4</td>\n",
              "      <td>121</td>\n",
              "    </tr>\n",
              "  </tbody>\n",
              "</table>\n",
              "</div>"
            ],
            "text/plain": [
              "   0  1  Passengers\n",
              "0  0  0         112\n",
              "1  0  1         118\n",
              "2  0  2         132\n",
              "3  0  3         129\n",
              "4  0  4         121"
            ]
          },
          "metadata": {},
          "execution_count": 68
        }
      ]
    },
    {
      "cell_type": "code",
      "metadata": {
        "colab": {
          "base_uri": "https://localhost:8080/"
        },
        "id": "NStidkdZlFr7",
        "outputId": "01b46193-4627-43c0-dc75-249e36de08ff"
      },
      "source": [
        "scaler = MinMaxScaler()\n",
        "data_scaled = scaler.fit_transform(df_new)\n",
        "\n",
        "features = data_scaled\n",
        "target = data_scaled[:, -1]\n",
        "\n",
        "print(features.shape)\n",
        "print(target.shape)"
      ],
      "execution_count": 29,
      "outputs": [
        {
          "output_type": "stream",
          "name": "stdout",
          "text": [
            "(144, 3)\n",
            "(144,)\n"
          ]
        }
      ]
    },
    {
      "cell_type": "code",
      "metadata": {
        "colab": {
          "base_uri": "https://localhost:8080/"
        },
        "id": "52xhyXCjnciJ",
        "outputId": "728efcd6-42bc-4f9d-ea41-45e91d0d9176"
      },
      "source": [
        "x_train, x_test, y_train, y_test = train_test_split(features, target, test_size=0.20, random_state=123, shuffle=False)\n",
        "\n",
        "print(x_train.shape)\n",
        "print(y_train.shape)\n",
        "\n",
        "print(x_test.shape)\n",
        "print(y_test.shape)"
      ],
      "execution_count": 32,
      "outputs": [
        {
          "output_type": "stream",
          "name": "stdout",
          "text": [
            "(115, 3)\n",
            "(115,)\n",
            "(29, 3)\n",
            "(29,)\n"
          ]
        }
      ]
    },
    {
      "cell_type": "code",
      "metadata": {
        "id": "ll0Dp3LQn8kc"
      },
      "source": [
        "win_length = 12\n",
        "batch_size = 16\n",
        "num_features = 3\n",
        "train_generator = TimeseriesGenerator(x_train, y_train, length=win_length, sampling_rate=1, batch_size=batch_size)\n",
        "test_generator = TimeseriesGenerator(x_test, y_test, length=win_length, sampling_rate=1, batch_size=batch_size)"
      ],
      "execution_count": 34,
      "outputs": []
    },
    {
      "cell_type": "code",
      "metadata": {
        "id": "cjVlloTRoX2-"
      },
      "source": [
        "from keras.models import Sequential\n",
        "from keras.layers import Dense\n",
        "from keras.layers import LSTM"
      ],
      "execution_count": 38,
      "outputs": []
    },
    {
      "cell_type": "code",
      "metadata": {
        "id": "z9Hz57XHoZV5"
      },
      "source": [
        "# define model\n",
        "model = Sequential()\n",
        "model.add(LSTM(100, activation='relu', input_shape=(win_length, num_features)))\n",
        "model.add(Dense(4))\n",
        "model.compile(optimizer='adam', loss='mse')"
      ],
      "execution_count": 80,
      "outputs": []
    },
    {
      "cell_type": "code",
      "metadata": {
        "colab": {
          "base_uri": "https://localhost:8080/"
        },
        "id": "Zm1lpaZen8pe",
        "outputId": "4224ba71-b7c4-474c-8005-ac4616af8432"
      },
      "source": [
        "model.summary()"
      ],
      "execution_count": 81,
      "outputs": [
        {
          "output_type": "stream",
          "name": "stdout",
          "text": [
            "Model: \"sequential_5\"\n",
            "_________________________________________________________________\n",
            "Layer (type)                 Output Shape              Param #   \n",
            "=================================================================\n",
            "lstm_8 (LSTM)                (None, 100)               41600     \n",
            "_________________________________________________________________\n",
            "dense_4 (Dense)              (None, 4)                 404       \n",
            "=================================================================\n",
            "Total params: 42,004\n",
            "Trainable params: 42,004\n",
            "Non-trainable params: 0\n",
            "_________________________________________________________________\n"
          ]
        }
      ]
    },
    {
      "cell_type": "code",
      "metadata": {
        "colab": {
          "base_uri": "https://localhost:8080/"
        },
        "id": "4xy3jqHRom0N",
        "outputId": "e3e26c9a-89ad-4bbd-c6d6-f4813fdab193"
      },
      "source": [
        "model.compile(loss=tf.losses.MeanSquaredError(),\n",
        "              optimizer=tf.optimizers.Adam(),\n",
        "              metrics=[tf.metrics.MeanAbsoluteError()])\n",
        "\n",
        "history = model.fit_generator(train_generator, epochs=50,\n",
        "                              validation_data=test_generator,\n",
        "                              shuffle=False)\n"
      ],
      "execution_count": 82,
      "outputs": [
        {
          "output_type": "stream",
          "name": "stderr",
          "text": [
            "/usr/local/lib/python3.7/dist-packages/keras/engine/training.py:1972: UserWarning: `Model.fit_generator` is deprecated and will be removed in a future version. Please use `Model.fit`, which supports generators.\n",
            "  warnings.warn('`Model.fit_generator` is deprecated and '\n"
          ]
        },
        {
          "output_type": "stream",
          "name": "stdout",
          "text": [
            "Epoch 1/50\n",
            "7/7 [==============================] - 2s 60ms/step - loss: 0.0615 - mean_absolute_error: 0.2049 - val_loss: 0.2573 - val_mean_absolute_error: 0.4801\n",
            "Epoch 2/50\n",
            "7/7 [==============================] - 0s 21ms/step - loss: 0.0207 - mean_absolute_error: 0.1052 - val_loss: 0.0817 - val_mean_absolute_error: 0.2380\n",
            "Epoch 3/50\n",
            "7/7 [==============================] - 0s 20ms/step - loss: 0.0130 - mean_absolute_error: 0.0986 - val_loss: 0.0254 - val_mean_absolute_error: 0.1232\n",
            "Epoch 4/50\n",
            "7/7 [==============================] - 0s 17ms/step - loss: 0.0176 - mean_absolute_error: 0.1139 - val_loss: 0.0407 - val_mean_absolute_error: 0.1490\n",
            "Epoch 5/50\n",
            "7/7 [==============================] - 0s 16ms/step - loss: 0.0131 - mean_absolute_error: 0.0908 - val_loss: 0.0475 - val_mean_absolute_error: 0.1645\n",
            "Epoch 6/50\n",
            "7/7 [==============================] - 0s 16ms/step - loss: 0.0095 - mean_absolute_error: 0.0766 - val_loss: 0.0295 - val_mean_absolute_error: 0.1264\n",
            "Epoch 7/50\n",
            "7/7 [==============================] - 0s 15ms/step - loss: 0.0085 - mean_absolute_error: 0.0772 - val_loss: 0.0229 - val_mean_absolute_error: 0.1223\n",
            "Epoch 8/50\n",
            "7/7 [==============================] - 0s 16ms/step - loss: 0.0075 - mean_absolute_error: 0.0692 - val_loss: 0.0215 - val_mean_absolute_error: 0.1184\n",
            "Epoch 9/50\n",
            "7/7 [==============================] - 0s 16ms/step - loss: 0.0062 - mean_absolute_error: 0.0627 - val_loss: 0.0220 - val_mean_absolute_error: 0.1270\n",
            "Epoch 10/50\n",
            "7/7 [==============================] - 0s 16ms/step - loss: 0.0055 - mean_absolute_error: 0.0585 - val_loss: 0.0210 - val_mean_absolute_error: 0.1244\n",
            "Epoch 11/50\n",
            "7/7 [==============================] - 0s 19ms/step - loss: 0.0049 - mean_absolute_error: 0.0546 - val_loss: 0.0208 - val_mean_absolute_error: 0.1257\n",
            "Epoch 12/50\n",
            "7/7 [==============================] - 0s 20ms/step - loss: 0.0044 - mean_absolute_error: 0.0519 - val_loss: 0.0194 - val_mean_absolute_error: 0.1224\n",
            "Epoch 13/50\n",
            "7/7 [==============================] - 0s 20ms/step - loss: 0.0041 - mean_absolute_error: 0.0489 - val_loss: 0.0186 - val_mean_absolute_error: 0.1205\n",
            "Epoch 14/50\n",
            "7/7 [==============================] - 0s 18ms/step - loss: 0.0036 - mean_absolute_error: 0.0472 - val_loss: 0.0163 - val_mean_absolute_error: 0.1110\n",
            "Epoch 15/50\n",
            "7/7 [==============================] - 0s 16ms/step - loss: 0.0040 - mean_absolute_error: 0.0461 - val_loss: 0.0173 - val_mean_absolute_error: 0.1151\n",
            "Epoch 16/50\n",
            "7/7 [==============================] - 0s 16ms/step - loss: 0.0040 - mean_absolute_error: 0.0495 - val_loss: 0.0115 - val_mean_absolute_error: 0.0863\n",
            "Epoch 17/50\n",
            "7/7 [==============================] - 0s 17ms/step - loss: 0.0080 - mean_absolute_error: 0.0657 - val_loss: 0.0125 - val_mean_absolute_error: 0.0813\n",
            "Epoch 18/50\n",
            "7/7 [==============================] - 0s 16ms/step - loss: 0.0056 - mean_absolute_error: 0.0577 - val_loss: 0.0131 - val_mean_absolute_error: 0.0977\n",
            "Epoch 19/50\n",
            "7/7 [==============================] - 0s 16ms/step - loss: 0.0090 - mean_absolute_error: 0.0670 - val_loss: 0.0316 - val_mean_absolute_error: 0.1430\n",
            "Epoch 20/50\n",
            "7/7 [==============================] - 0s 15ms/step - loss: 0.0031 - mean_absolute_error: 0.0416 - val_loss: 0.0167 - val_mean_absolute_error: 0.1134\n",
            "Epoch 21/50\n",
            "7/7 [==============================] - 0s 19ms/step - loss: 0.0040 - mean_absolute_error: 0.0528 - val_loss: 0.0112 - val_mean_absolute_error: 0.0878\n",
            "Epoch 22/50\n",
            "7/7 [==============================] - 0s 20ms/step - loss: 0.0042 - mean_absolute_error: 0.0462 - val_loss: 0.0104 - val_mean_absolute_error: 0.0747\n",
            "Epoch 23/50\n",
            "7/7 [==============================] - 0s 20ms/step - loss: 0.0027 - mean_absolute_error: 0.0398 - val_loss: 0.0168 - val_mean_absolute_error: 0.1085\n",
            "Epoch 24/50\n",
            "7/7 [==============================] - 0s 19ms/step - loss: 0.0027 - mean_absolute_error: 0.0385 - val_loss: 0.0094 - val_mean_absolute_error: 0.0768\n",
            "Epoch 25/50\n",
            "7/7 [==============================] - 0s 17ms/step - loss: 0.0022 - mean_absolute_error: 0.0363 - val_loss: 0.0133 - val_mean_absolute_error: 0.0944\n",
            "Epoch 26/50\n",
            "7/7 [==============================] - 0s 19ms/step - loss: 0.0022 - mean_absolute_error: 0.0361 - val_loss: 0.0088 - val_mean_absolute_error: 0.0750\n",
            "Epoch 27/50\n",
            "7/7 [==============================] - 0s 16ms/step - loss: 0.0020 - mean_absolute_error: 0.0349 - val_loss: 0.0105 - val_mean_absolute_error: 0.0817\n",
            "Epoch 28/50\n",
            "7/7 [==============================] - 0s 16ms/step - loss: 0.0021 - mean_absolute_error: 0.0357 - val_loss: 0.0080 - val_mean_absolute_error: 0.0710\n",
            "Epoch 29/50\n",
            "7/7 [==============================] - 0s 15ms/step - loss: 0.0020 - mean_absolute_error: 0.0346 - val_loss: 0.0086 - val_mean_absolute_error: 0.0730\n",
            "Epoch 30/50\n",
            "7/7 [==============================] - 0s 16ms/step - loss: 0.0024 - mean_absolute_error: 0.0373 - val_loss: 0.0071 - val_mean_absolute_error: 0.0686\n",
            "Epoch 31/50\n",
            "7/7 [==============================] - 0s 18ms/step - loss: 0.0022 - mean_absolute_error: 0.0358 - val_loss: 0.0073 - val_mean_absolute_error: 0.0683\n",
            "Epoch 32/50\n",
            "7/7 [==============================] - 0s 16ms/step - loss: 0.0032 - mean_absolute_error: 0.0420 - val_loss: 0.0068 - val_mean_absolute_error: 0.0679\n",
            "Epoch 33/50\n",
            "7/7 [==============================] - 0s 19ms/step - loss: 0.0025 - mean_absolute_error: 0.0377 - val_loss: 0.0076 - val_mean_absolute_error: 0.0700\n",
            "Epoch 34/50\n",
            "7/7 [==============================] - 0s 20ms/step - loss: 0.0037 - mean_absolute_error: 0.0440 - val_loss: 0.0083 - val_mean_absolute_error: 0.0723\n",
            "Epoch 35/50\n",
            "7/7 [==============================] - 0s 19ms/step - loss: 0.0023 - mean_absolute_error: 0.0359 - val_loss: 0.0090 - val_mean_absolute_error: 0.0755\n",
            "Epoch 36/50\n",
            "7/7 [==============================] - 0s 21ms/step - loss: 0.0026 - mean_absolute_error: 0.0376 - val_loss: 0.0068 - val_mean_absolute_error: 0.0683\n",
            "Epoch 37/50\n",
            "7/7 [==============================] - 0s 20ms/step - loss: 0.0018 - mean_absolute_error: 0.0332 - val_loss: 0.0084 - val_mean_absolute_error: 0.0718\n",
            "Epoch 38/50\n",
            "7/7 [==============================] - 0s 19ms/step - loss: 0.0019 - mean_absolute_error: 0.0340 - val_loss: 0.0060 - val_mean_absolute_error: 0.0669\n",
            "Epoch 39/50\n",
            "7/7 [==============================] - 0s 18ms/step - loss: 0.0017 - mean_absolute_error: 0.0322 - val_loss: 0.0070 - val_mean_absolute_error: 0.0659\n",
            "Epoch 40/50\n",
            "7/7 [==============================] - 0s 19ms/step - loss: 0.0019 - mean_absolute_error: 0.0337 - val_loss: 0.0056 - val_mean_absolute_error: 0.0650\n",
            "Epoch 41/50\n",
            "7/7 [==============================] - 0s 16ms/step - loss: 0.0017 - mean_absolute_error: 0.0321 - val_loss: 0.0059 - val_mean_absolute_error: 0.0628\n",
            "Epoch 42/50\n",
            "7/7 [==============================] - 0s 16ms/step - loss: 0.0020 - mean_absolute_error: 0.0348 - val_loss: 0.0052 - val_mean_absolute_error: 0.0627\n",
            "Epoch 43/50\n",
            "7/7 [==============================] - 0s 16ms/step - loss: 0.0018 - mean_absolute_error: 0.0331 - val_loss: 0.0054 - val_mean_absolute_error: 0.0604\n",
            "Epoch 44/50\n",
            "7/7 [==============================] - 0s 16ms/step - loss: 0.0024 - mean_absolute_error: 0.0374 - val_loss: 0.0052 - val_mean_absolute_error: 0.0617\n",
            "Epoch 45/50\n",
            "7/7 [==============================] - 0s 15ms/step - loss: 0.0020 - mean_absolute_error: 0.0345 - val_loss: 0.0054 - val_mean_absolute_error: 0.0595\n",
            "Epoch 46/50\n",
            "7/7 [==============================] - 0s 16ms/step - loss: 0.0028 - mean_absolute_error: 0.0398 - val_loss: 0.0059 - val_mean_absolute_error: 0.0630\n",
            "Epoch 47/50\n",
            "7/7 [==============================] - 0s 17ms/step - loss: 0.0021 - mean_absolute_error: 0.0343 - val_loss: 0.0058 - val_mean_absolute_error: 0.0603\n",
            "Epoch 48/50\n",
            "7/7 [==============================] - 0s 19ms/step - loss: 0.0026 - mean_absolute_error: 0.0382 - val_loss: 0.0059 - val_mean_absolute_error: 0.0632\n",
            "Epoch 49/50\n",
            "7/7 [==============================] - 0s 19ms/step - loss: 0.0018 - mean_absolute_error: 0.0326 - val_loss: 0.0059 - val_mean_absolute_error: 0.0601\n",
            "Epoch 50/50\n",
            "7/7 [==============================] - 0s 20ms/step - loss: 0.0021 - mean_absolute_error: 0.0349 - val_loss: 0.0051 - val_mean_absolute_error: 0.0606\n"
          ]
        }
      ]
    },
    {
      "cell_type": "code",
      "metadata": {
        "id": "AUbbbixnom5u"
      },
      "source": [
        "last_train_batch = data_scaled[-win_length:]"
      ],
      "execution_count": 83,
      "outputs": []
    },
    {
      "cell_type": "code",
      "metadata": {
        "id": "ezdP_C2XonO1"
      },
      "source": [
        "last_train_batch = last_train_batch.reshape((1, win_length, num_features))"
      ],
      "execution_count": 84,
      "outputs": []
    },
    {
      "cell_type": "code",
      "metadata": {
        "colab": {
          "base_uri": "https://localhost:8080/"
        },
        "id": "4B9mKbvKonRx",
        "outputId": "119b8161-c878-43b0-be2c-b7f7004cc943"
      },
      "source": [
        "model.predict(last_train_batch)"
      ],
      "execution_count": 85,
      "outputs": [
        {
          "output_type": "stream",
          "name": "stdout",
          "text": [
            "WARNING:tensorflow:5 out of the last 7 calls to <function Model.make_predict_function.<locals>.predict_function at 0x7f382fa4f710> triggered tf.function retracing. Tracing is expensive and the excessive number of tracings could be due to (1) creating @tf.function repeatedly in a loop, (2) passing tensors with different shapes, (3) passing Python objects instead of tensors. For (1), please define your @tf.function outside of the loop. For (2), @tf.function has experimental_relax_shapes=True option that relaxes argument shapes that can avoid unnecessary retracing. For (3), please refer to https://www.tensorflow.org/guide/function#controlling_retracing and https://www.tensorflow.org/api_docs/python/tf/function for  more details.\n"
          ]
        },
        {
          "output_type": "execute_result",
          "data": {
            "text/plain": [
              "array([[0.58798987, 0.56485534, 0.58611107, 0.5849282 ]], dtype=float32)"
            ]
          },
          "metadata": {},
          "execution_count": 85
        }
      ]
    },
    {
      "cell_type": "code",
      "metadata": {
        "colab": {
          "base_uri": "https://localhost:8080/"
        },
        "id": "qM7J2r9tonUU",
        "outputId": "26b831d6-ffef-42a4-c815-97b9c32af14a"
      },
      "source": [
        "y_test[0:4]"
      ],
      "execution_count": 86,
      "outputs": [
        {
          "output_type": "execute_result",
          "data": {
            "text/plain": [
              "array([0.77413127, 0.57915058, 0.49227799, 0.3976834 ])"
            ]
          },
          "metadata": {},
          "execution_count": 86
        }
      ]
    },
    {
      "cell_type": "code",
      "metadata": {
        "id": "zxDJGYG3x4V_"
      },
      "source": [
        ""
      ],
      "execution_count": null,
      "outputs": []
    },
    {
      "cell_type": "code",
      "metadata": {
        "id": "w75NPKfyx4Yj"
      },
      "source": [
        ""
      ],
      "execution_count": null,
      "outputs": []
    },
    {
      "cell_type": "code",
      "metadata": {
        "id": "nw2UskUox4bw"
      },
      "source": [
        ""
      ],
      "execution_count": null,
      "outputs": []
    }
  ]
}