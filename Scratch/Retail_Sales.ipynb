{
  "nbformat": 4,
  "nbformat_minor": 0,
  "metadata": {
    "colab": {
      "name": "Airline_Passenger_Univarite_LSTM.ipynb",
      "provenance": [],
      "collapsed_sections": []
    },
    "kernelspec": {
      "name": "python3",
      "display_name": "Python 3"
    },
    "language_info": {
      "name": "python"
    }
  },
  "cells": [
    {
      "cell_type": "code",
      "metadata": {
        "id": "nRSlxT4q5EHJ"
      },
      "source": [
        "import pandas as pd\n",
        "import numpy as np\n",
        "import matplotlib.pyplot as plt"
      ],
      "execution_count": 5,
      "outputs": []
    },
    {
      "cell_type": "code",
      "source": [
        "!wget https://raw.githubusercontent.com/ourownstory/neuralprophet-data/main/datasets/retail_sales.csv"
      ],
      "metadata": {
        "id": "EudinTB2XYvT",
        "outputId": "162d6b4f-b5a5-4bb9-9620-b73c039b1ecf",
        "colab": {
          "base_uri": "https://localhost:8080/"
        }
      },
      "execution_count": 6,
      "outputs": [
        {
          "output_type": "stream",
          "name": "stdout",
          "text": [
            "--2021-12-10 08:03:05--  https://raw.githubusercontent.com/ourownstory/neuralprophet-data/main/datasets/retail_sales.csv\n",
            "Resolving raw.githubusercontent.com (raw.githubusercontent.com)... 185.199.108.133, 185.199.109.133, 185.199.110.133, ...\n",
            "Connecting to raw.githubusercontent.com (raw.githubusercontent.com)|185.199.108.133|:443... connected.\n",
            "HTTP request sent, awaiting response... 200 OK\n",
            "Length: 5279 (5.2K) [text/plain]\n",
            "Saving to: ‘retail_sales.csv.1’\n",
            "\n",
            "\rretail_sales.csv.1    0%[                    ]       0  --.-KB/s               \rretail_sales.csv.1  100%[===================>]   5.16K  --.-KB/s    in 0s      \n",
            "\n",
            "2021-12-10 08:03:05 (58.3 MB/s) - ‘retail_sales.csv.1’ saved [5279/5279]\n",
            "\n"
          ]
        }
      ]
    },
    {
      "cell_type": "code",
      "metadata": {
        "id": "2fRF6mEW5QbK"
      },
      "source": [
        "df = pd.read_csv('/content/retail_sales.csv',index_col='ds',parse_dates=True)\n"
      ],
      "execution_count": 9,
      "outputs": []
    },
    {
      "cell_type": "code",
      "metadata": {
        "id": "agtLk7dO5SsM",
        "colab": {
          "base_uri": "https://localhost:8080/",
          "height": 238
        },
        "outputId": "0b24ea21-f055-4a49-ccbb-4afb238791d0"
      },
      "source": [
        "df.head()"
      ],
      "execution_count": 10,
      "outputs": [
        {
          "output_type": "execute_result",
          "data": {
            "text/html": [
              "<div>\n",
              "<style scoped>\n",
              "    .dataframe tbody tr th:only-of-type {\n",
              "        vertical-align: middle;\n",
              "    }\n",
              "\n",
              "    .dataframe tbody tr th {\n",
              "        vertical-align: top;\n",
              "    }\n",
              "\n",
              "    .dataframe thead th {\n",
              "        text-align: right;\n",
              "    }\n",
              "</style>\n",
              "<table border=\"1\" class=\"dataframe\">\n",
              "  <thead>\n",
              "    <tr style=\"text-align: right;\">\n",
              "      <th></th>\n",
              "      <th>y</th>\n",
              "    </tr>\n",
              "    <tr>\n",
              "      <th>ds</th>\n",
              "      <th></th>\n",
              "    </tr>\n",
              "  </thead>\n",
              "  <tbody>\n",
              "    <tr>\n",
              "      <th>1992-01-01</th>\n",
              "      <td>146376</td>\n",
              "    </tr>\n",
              "    <tr>\n",
              "      <th>1992-02-01</th>\n",
              "      <td>147079</td>\n",
              "    </tr>\n",
              "    <tr>\n",
              "      <th>1992-03-01</th>\n",
              "      <td>159336</td>\n",
              "    </tr>\n",
              "    <tr>\n",
              "      <th>1992-04-01</th>\n",
              "      <td>163669</td>\n",
              "    </tr>\n",
              "    <tr>\n",
              "      <th>1992-05-01</th>\n",
              "      <td>170068</td>\n",
              "    </tr>\n",
              "  </tbody>\n",
              "</table>\n",
              "</div>"
            ],
            "text/plain": [
              "                 y\n",
              "ds                \n",
              "1992-01-01  146376\n",
              "1992-02-01  147079\n",
              "1992-03-01  159336\n",
              "1992-04-01  163669\n",
              "1992-05-01  170068"
            ]
          },
          "metadata": {},
          "execution_count": 10
        }
      ]
    },
    {
      "cell_type": "code",
      "metadata": {
        "colab": {
          "base_uri": "https://localhost:8080/",
          "height": 405
        },
        "id": "b1h7L_TG5tJK",
        "outputId": "7a5b0ace-d96b-43ab-f02a-74a10890683b"
      },
      "source": [
        "df.plot(figsize=(12,6))"
      ],
      "execution_count": 11,
      "outputs": [
        {
          "output_type": "execute_result",
          "data": {
            "text/plain": [
              "<matplotlib.axes._subplots.AxesSubplot at 0x7f25880cd8d0>"
            ]
          },
          "metadata": {},
          "execution_count": 11
        },
        {
          "output_type": "display_data",
          "data": {
            "image/png": "[encoded data removed]",
            "text/plain": [
              "<Figure size 864x432 with 1 Axes>"
            ]
          },
          "metadata": {
            "needs_background": "light"
          }
        }
      ]
    },
    {
      "cell_type": "code",
      "metadata": {
        "id": "jcew1g4f6L_X",
        "colab": {
          "base_uri": "https://localhost:8080/"
        },
        "outputId": "9b29e12e-26c9-4128-f96f-b36bccf17ea2"
      },
      "source": [
        "from statsmodels.tsa.seasonal import seasonal_decompose"
      ],
      "execution_count": 12,
      "outputs": [
        {
          "output_type": "stream",
          "name": "stderr",
          "text": [
            "/usr/local/lib/python3.7/dist-packages/statsmodels/tools/_testing.py:19: FutureWarning: pandas.util.testing is deprecated. Use the functions in the public API at pandas.testing instead.\n",
            "  import pandas.util.testing as tm\n"
          ]
        }
      ]
    },
    {
      "cell_type": "code",
      "metadata": {
        "colab": {
          "base_uri": "https://localhost:8080/",
          "height": 298
        },
        "id": "zfTZaeEH6Wpn",
        "outputId": "9bc0932e-c7c1-4479-89f9-881ed615170e"
      },
      "source": [
        "results = seasonal_decompose(df['y'])\n",
        "results.plot();"
      ],
      "execution_count": 14,
      "outputs": [
        {
          "output_type": "display_data",
          "data": {
            "image/png": "[encoded data removed]",
            "text/plain": [
              "<Figure size 432x288 with 4 Axes>"
            ]
          },
          "metadata": {
            "needs_background": "light"
          }
        }
      ]
    },
    {
      "cell_type": "code",
      "metadata": {
        "colab": {
          "base_uri": "https://localhost:8080/"
        },
        "id": "IzkqCHh_6lfn",
        "outputId": "75ac2c29-c7b9-41e6-ee65-b9f3df7f3836"
      },
      "source": [
        "len(df)"
      ],
      "execution_count": 15,
      "outputs": [
        {
          "output_type": "execute_result",
          "data": {
            "text/plain": [
              "293"
            ]
          },
          "metadata": {},
          "execution_count": 15
        }
      ]
    },
    {
      "cell_type": "code",
      "metadata": {
        "id": "1NoWcZEK6rPb"
      },
      "source": [
        "train = df.iloc[:250]\n",
        "test = df.iloc[250:]"
      ],
      "execution_count": 16,
      "outputs": []
    },
    {
      "cell_type": "code",
      "metadata": {
        "id": "dtAgIrE66u6x"
      },
      "source": [
        "from sklearn.preprocessing import MinMaxScaler\n",
        "scaler = MinMaxScaler()"
      ],
      "execution_count": 17,
      "outputs": []
    },
    {
      "cell_type": "code",
      "metadata": {
        "colab": {
          "base_uri": "https://localhost:8080/"
        },
        "id": "UDQODrt4D5NK",
        "outputId": "59cce0bf-91c0-4297-d58a-ce25902e4ef0"
      },
      "source": [
        "df.head(),df.tail()"
      ],
      "execution_count": 18,
      "outputs": [
        {
          "output_type": "execute_result",
          "data": {
            "text/plain": [
              "(                 y\n",
              " ds                \n",
              " 1992-01-01  146376\n",
              " 1992-02-01  147079\n",
              " 1992-03-01  159336\n",
              " 1992-04-01  163669\n",
              " 1992-05-01  170068,                  y\n",
              " ds                \n",
              " 2016-01-01  400928\n",
              " 2016-02-01  413554\n",
              " 2016-03-01  460093\n",
              " 2016-04-01  450935\n",
              " 2016-05-01  471421)"
            ]
          },
          "metadata": {},
          "execution_count": 18
        }
      ]
    },
    {
      "cell_type": "code",
      "metadata": {
        "id": "ijgmVYgC6zBz"
      },
      "source": [
        "scaler.fit(train)\n",
        "scaled_train = scaler.transform(train)\n",
        "scaled_test = scaler.transform(test)"
      ],
      "execution_count": 19,
      "outputs": []
    },
    {
      "cell_type": "code",
      "metadata": {
        "id": "0xryZ7rR62y5"
      },
      "source": [
        "from keras.preprocessing.sequence import TimeseriesGenerator"
      ],
      "execution_count": 20,
      "outputs": []
    },
    {
      "cell_type": "code",
      "metadata": {
        "id": "jm-T4H4I7UaV"
      },
      "source": [
        "# We do the same thing, but now instead for 12 months\n",
        "n_input = 30\n",
        "n_features = 1\n",
        "generator = TimeseriesGenerator(scaled_train, scaled_train, length=n_input, batch_size=1)"
      ],
      "execution_count": 21,
      "outputs": []
    },
    {
      "cell_type": "code",
      "metadata": {
        "id": "bzIs_l_k7Zqg"
      },
      "source": [
        "from keras.models import Sequential\n",
        "from keras.layers import Dense\n",
        "from keras.layers import LSTM"
      ],
      "execution_count": 22,
      "outputs": []
    },
    {
      "cell_type": "code",
      "metadata": {
        "id": "eJa-wFQf7jw6"
      },
      "source": [
        "# define model\n",
        "model = Sequential()\n",
        "model.add(LSTM(100, activation='relu', input_shape=(n_input, n_features)))\n",
        "model.add(Dense(1))\n",
        "model.compile(optimizer='adam', loss='mse')"
      ],
      "execution_count": 26,
      "outputs": []
    },
    {
      "cell_type": "code",
      "metadata": {
        "colab": {
          "base_uri": "https://localhost:8080/"
        },
        "id": "Nq1mYPwBdM9o",
        "outputId": "d324e9ac-0545-45fd-ee72-bdd9fa1a2fc5"
      },
      "source": [
        "model.summary()"
      ],
      "execution_count": 27,
      "outputs": [
        {
          "output_type": "stream",
          "name": "stdout",
          "text": [
            "Model: \"sequential_1\"\n",
            "_________________________________________________________________\n",
            " Layer (type)                Output Shape              Param #   \n",
            "=================================================================\n",
            " lstm_1 (LSTM)               (None, 100)               40800     \n",
            "                                                                 \n",
            " dense_1 (Dense)             (None, 1)                 101       \n",
            "                                                                 \n",
            "=================================================================\n",
            "Total params: 40,901\n",
            "Trainable params: 40,901\n",
            "Non-trainable params: 0\n",
            "_________________________________________________________________\n"
          ]
        }
      ]
    },
    {
      "cell_type": "code",
      "metadata": {
        "colab": {
          "base_uri": "https://localhost:8080/"
        },
        "id": "p8yqUZaz7nwp",
        "outputId": "bc771bfd-eb6f-4c9a-8af2-a13515621d95"
      },
      "source": [
        "# fit model\n",
        "model.fit(generator,epochs=100)"
      ],
      "execution_count": 28,
      "outputs": [
        {
          "output_type": "stream",
          "name": "stdout",
          "text": [
            "Epoch 1/100\n",
            "220/220 [==============================] - 4s 14ms/step - loss: 0.0187\n",
            "Epoch 2/100\n",
            "220/220 [==============================] - 3s 15ms/step - loss: 0.0083\n",
            "Epoch 3/100\n",
            "220/220 [==============================] - 3s 14ms/step - loss: 0.0070\n",
            "Epoch 4/100\n",
            "220/220 [==============================] - 3s 14ms/step - loss: 0.0076\n",
            "Epoch 5/100\n",
            "220/220 [==============================] - 3s 13ms/step - loss: 0.0065\n",
            "Epoch 6/100\n",
            "220/220 [==============================] - 3s 14ms/step - loss: 0.0070\n",
            "Epoch 7/100\n",
            "220/220 [==============================] - 3s 14ms/step - loss: 0.0076\n",
            "Epoch 8/100\n",
            "220/220 [==============================] - 3s 14ms/step - loss: 0.0068\n",
            "Epoch 9/100\n",
            "220/220 [==============================] - 3s 14ms/step - loss: 0.0070\n",
            "Epoch 10/100\n",
            "220/220 [==============================] - 3s 15ms/step - loss: 0.0068\n",
            "Epoch 11/100\n",
            "220/220 [==============================] - 3s 14ms/step - loss: 0.0073\n",
            "Epoch 12/100\n",
            "220/220 [==============================] - 3s 14ms/step - loss: 0.0065\n",
            "Epoch 13/100\n",
            "220/220 [==============================] - 3s 14ms/step - loss: 0.0065\n",
            "Epoch 14/100\n",
            "220/220 [==============================] - 3s 14ms/step - loss: 0.0074\n",
            "Epoch 15/100\n",
            "220/220 [==============================] - 3s 14ms/step - loss: 0.0062\n",
            "Epoch 16/100\n",
            "220/220 [==============================] - 3s 14ms/step - loss: 0.0065\n",
            "Epoch 17/100\n",
            "220/220 [==============================] - 3s 13ms/step - loss: 0.0063\n",
            "Epoch 18/100\n",
            "220/220 [==============================] - 3s 14ms/step - loss: 0.0064\n",
            "Epoch 19/100\n",
            "220/220 [==============================] - 3s 13ms/step - loss: 0.0061\n",
            "Epoch 20/100\n",
            "220/220 [==============================] - 3s 14ms/step - loss: 0.0062\n",
            "Epoch 21/100\n",
            "220/220 [==============================] - 3s 13ms/step - loss: 0.0062\n",
            "Epoch 22/100\n",
            "220/220 [==============================] - 3s 13ms/step - loss: 0.0054\n",
            "Epoch 23/100\n",
            "220/220 [==============================] - 4s 17ms/step - loss: 0.0072\n",
            "Epoch 24/100\n",
            "220/220 [==============================] - 4s 17ms/step - loss: 0.0055\n",
            "Epoch 25/100\n",
            "220/220 [==============================] - 3s 13ms/step - loss: 0.0051\n",
            "Epoch 26/100\n",
            "220/220 [==============================] - 3s 13ms/step - loss: 0.0049\n",
            "Epoch 27/100\n",
            "220/220 [==============================] - 3s 14ms/step - loss: 0.0045\n",
            "Epoch 28/100\n",
            "220/220 [==============================] - 3s 13ms/step - loss: 0.0046\n",
            "Epoch 29/100\n",
            "220/220 [==============================] - 3s 14ms/step - loss: 0.0042\n",
            "Epoch 30/100\n",
            "220/220 [==============================] - 3s 14ms/step - loss: 0.0045\n",
            "Epoch 31/100\n",
            "220/220 [==============================] - 3s 14ms/step - loss: 0.0042\n",
            "Epoch 32/100\n",
            "220/220 [==============================] - 3s 14ms/step - loss: 0.0045\n",
            "Epoch 33/100\n",
            "220/220 [==============================] - 3s 13ms/step - loss: 0.0043\n",
            "Epoch 34/100\n",
            "220/220 [==============================] - 3s 13ms/step - loss: 0.0042\n",
            "Epoch 35/100\n",
            "220/220 [==============================] - 3s 13ms/step - loss: 0.0041\n",
            "Epoch 36/100\n",
            "220/220 [==============================] - 3s 13ms/step - loss: 0.0044\n",
            "Epoch 37/100\n",
            "220/220 [==============================] - 3s 14ms/step - loss: 0.0043\n",
            "Epoch 38/100\n",
            "220/220 [==============================] - 3s 14ms/step - loss: 0.0045\n",
            "Epoch 39/100\n",
            "220/220 [==============================] - 3s 14ms/step - loss: 0.0042\n",
            "Epoch 40/100\n",
            "220/220 [==============================] - 3s 14ms/step - loss: 0.0044\n",
            "Epoch 41/100\n",
            "220/220 [==============================] - 3s 13ms/step - loss: 0.0039\n",
            "Epoch 42/100\n",
            "220/220 [==============================] - 3s 14ms/step - loss: 0.0039\n",
            "Epoch 43/100\n",
            "220/220 [==============================] - 3s 13ms/step - loss: 0.0039\n",
            "Epoch 44/100\n",
            "220/220 [==============================] - 3s 13ms/step - loss: 0.0040\n",
            "Epoch 45/100\n",
            "220/220 [==============================] - 3s 14ms/step - loss: 0.0038\n",
            "Epoch 46/100\n",
            "220/220 [==============================] - 3s 14ms/step - loss: 0.0036\n",
            "Epoch 47/100\n",
            "220/220 [==============================] - 3s 14ms/step - loss: 0.0041\n",
            "Epoch 48/100\n",
            "220/220 [==============================] - 3s 14ms/step - loss: 0.0040\n",
            "Epoch 49/100\n",
            "220/220 [==============================] - 3s 14ms/step - loss: 0.0038\n",
            "Epoch 50/100\n",
            "220/220 [==============================] - 3s 14ms/step - loss: 0.0041\n",
            "Epoch 51/100\n",
            "220/220 [==============================] - 3s 15ms/step - loss: 0.0039\n",
            "Epoch 52/100\n",
            "220/220 [==============================] - 3s 16ms/step - loss: 0.0040\n",
            "Epoch 53/100\n",
            "220/220 [==============================] - 3s 15ms/step - loss: 0.0037\n",
            "Epoch 54/100\n",
            "220/220 [==============================] - 3s 16ms/step - loss: 0.0039\n",
            "Epoch 55/100\n",
            "220/220 [==============================] - 4s 16ms/step - loss: 0.0040\n",
            "Epoch 56/100\n",
            "220/220 [==============================] - 3s 14ms/step - loss: 0.0039\n",
            "Epoch 57/100\n",
            "220/220 [==============================] - 3s 16ms/step - loss: 0.0038\n",
            "Epoch 58/100\n",
            "220/220 [==============================] - 3s 15ms/step - loss: 0.0036\n",
            "Epoch 59/100\n",
            "220/220 [==============================] - 3s 14ms/step - loss: 0.0043\n",
            "Epoch 60/100\n",
            "220/220 [==============================] - 3s 14ms/step - loss: 0.0037\n",
            "Epoch 61/100\n",
            "220/220 [==============================] - 3s 14ms/step - loss: 0.0037\n",
            "Epoch 62/100\n",
            "220/220 [==============================] - 3s 13ms/step - loss: 0.0037\n",
            "Epoch 63/100\n",
            "220/220 [==============================] - 3s 14ms/step - loss: 0.0037\n",
            "Epoch 64/100\n",
            "220/220 [==============================] - 3s 13ms/step - loss: 0.0038\n",
            "Epoch 65/100\n",
            "220/220 [==============================] - 3s 14ms/step - loss: 0.0037\n",
            "Epoch 66/100\n",
            "220/220 [==============================] - 3s 13ms/step - loss: 0.0035\n",
            "Epoch 67/100\n",
            "220/220 [==============================] - 3s 15ms/step - loss: 0.0037\n",
            "Epoch 68/100\n",
            "220/220 [==============================] - 3s 15ms/step - loss: 0.0037\n",
            "Epoch 69/100\n",
            "220/220 [==============================] - 3s 14ms/step - loss: 0.0037\n",
            "Epoch 70/100\n",
            "220/220 [==============================] - 3s 13ms/step - loss: 0.0037\n",
            "Epoch 71/100\n",
            "220/220 [==============================] - 3s 14ms/step - loss: 0.0037\n",
            "Epoch 72/100\n",
            "220/220 [==============================] - 3s 13ms/step - loss: 0.0036\n",
            "Epoch 73/100\n",
            "220/220 [==============================] - 3s 14ms/step - loss: 0.0036\n",
            "Epoch 74/100\n",
            "220/220 [==============================] - 3s 14ms/step - loss: 0.0035\n",
            "Epoch 75/100\n",
            "220/220 [==============================] - 3s 14ms/step - loss: 0.0035\n",
            "Epoch 76/100\n",
            "220/220 [==============================] - 3s 14ms/step - loss: 0.0034\n",
            "Epoch 77/100\n",
            "220/220 [==============================] - 3s 14ms/step - loss: 0.0033\n",
            "Epoch 78/100\n",
            "220/220 [==============================] - 3s 13ms/step - loss: 0.0033\n",
            "Epoch 79/100\n",
            "220/220 [==============================] - 3s 14ms/step - loss: 0.0034\n",
            "Epoch 80/100\n",
            "220/220 [==============================] - 3s 14ms/step - loss: 0.0033\n",
            "Epoch 81/100\n",
            "220/220 [==============================] - 3s 15ms/step - loss: 0.0032\n",
            "Epoch 82/100\n",
            "220/220 [==============================] - 3s 16ms/step - loss: 0.0031\n",
            "Epoch 83/100\n",
            "220/220 [==============================] - 3s 14ms/step - loss: 0.0034\n",
            "Epoch 84/100\n",
            "220/220 [==============================] - 3s 14ms/step - loss: 0.0032\n",
            "Epoch 85/100\n",
            "220/220 [==============================] - 3s 14ms/step - loss: 0.0031\n",
            "Epoch 86/100\n",
            "220/220 [==============================] - 3s 14ms/step - loss: 0.0032\n",
            "Epoch 87/100\n",
            "220/220 [==============================] - 3s 14ms/step - loss: 0.0033\n",
            "Epoch 88/100\n",
            "220/220 [==============================] - 3s 14ms/step - loss: 0.0034\n",
            "Epoch 89/100\n",
            "220/220 [==============================] - 3s 14ms/step - loss: 0.0034\n",
            "Epoch 90/100\n",
            "220/220 [==============================] - 3s 14ms/step - loss: 0.0034\n",
            "Epoch 91/100\n",
            "220/220 [==============================] - 3s 14ms/step - loss: 0.0031\n",
            "Epoch 92/100\n",
            "220/220 [==============================] - 3s 14ms/step - loss: 0.0030\n",
            "Epoch 93/100\n",
            "220/220 [==============================] - 3s 13ms/step - loss: 0.0030\n",
            "Epoch 94/100\n",
            "220/220 [==============================] - 3s 14ms/step - loss: 0.0035\n",
            "Epoch 95/100\n",
            "220/220 [==============================] - 3s 14ms/step - loss: 0.0030\n",
            "Epoch 96/100\n",
            "220/220 [==============================] - 3s 14ms/step - loss: 0.0032\n",
            "Epoch 97/100\n",
            "220/220 [==============================] - 3s 14ms/step - loss: 0.0031\n",
            "Epoch 98/100\n",
            "220/220 [==============================] - 3s 14ms/step - loss: 0.0029\n",
            "Epoch 99/100\n",
            "220/220 [==============================] - 3s 14ms/step - loss: 0.0030\n",
            "Epoch 100/100\n",
            "220/220 [==============================] - 3s 14ms/step - loss: 0.0034\n"
          ]
        },
        {
          "output_type": "execute_result",
          "data": {
            "text/plain": [
              "<keras.callbacks.History at 0x7f250291c250>"
            ]
          },
          "metadata": {},
          "execution_count": 28
        }
      ]
    },
    {
      "cell_type": "code",
      "metadata": {
        "colab": {
          "base_uri": "https://localhost:8080/",
          "height": 282
        },
        "id": "OjDsOKR67rs8",
        "outputId": "859e4ef6-e525-40fc-ac4f-0e913518f063"
      },
      "source": [
        "loss_per_epoch = model.history.history['loss']\n",
        "plt.plot(range(len(loss_per_epoch)),loss_per_epoch)"
      ],
      "execution_count": 29,
      "outputs": [
        {
          "output_type": "execute_result",
          "data": {
            "text/plain": [
              "[<matplotlib.lines.Line2D at 0x7f25001e7c10>]"
            ]
          },
          "metadata": {},
          "execution_count": 29
        },
        {
          "output_type": "display_data",
          "data": {
            "image/png": "[encoded data removed]",
            "text/plain": [
              "<Figure size 432x288 with 1 Axes>"
            ]
          },
          "metadata": {
            "needs_background": "light"
          }
        }
      ]
    },
    {
      "cell_type": "code",
      "metadata": {
        "id": "_MP-5Wez8jbY"
      },
      "source": [
        "test_predictions = []\n",
        "\n",
        "first_eval_batch = scaled_train[-n_input:]\n",
        "current_batch = first_eval_batch.reshape((1, n_input, n_features))\n",
        "\n",
        "for i in range(len(test)):\n",
        "    \n",
        "    # get the prediction value for the first batch\n",
        "    current_pred = model.predict(current_batch)[0]\n",
        "    \n",
        "    # append the prediction into the array\n",
        "    test_predictions.append(current_pred) \n",
        "    \n",
        "    # use the prediction to update the batch and remove the first value\n",
        "    current_batch = np.append(current_batch[:,1:,:],[[current_pred]],axis=1)"
      ],
      "execution_count": 30,
      "outputs": []
    },
    {
      "cell_type": "code",
      "metadata": {
        "id": "BHHzjNDK9EJZ"
      },
      "source": [
        "true_predictions = scaler.inverse_transform(test_predictions)"
      ],
      "execution_count": 31,
      "outputs": []
    },
    {
      "cell_type": "code",
      "metadata": {
        "id": "0dsN45zf9I9u",
        "colab": {
          "base_uri": "https://localhost:8080/"
        },
        "outputId": "cbcb3214-22f2-466d-9e84-e4d351a6b9e5"
      },
      "source": [
        "test['Predictions'] = true_predictions"
      ],
      "execution_count": 32,
      "outputs": [
        {
          "output_type": "stream",
          "name": "stderr",
          "text": [
            "/usr/local/lib/python3.7/dist-packages/ipykernel_launcher.py:1: SettingWithCopyWarning: \n",
            "A value is trying to be set on a copy of a slice from a DataFrame.\n",
            "Try using .loc[row_indexer,col_indexer] = value instead\n",
            "\n",
            "See the caveats in the documentation: https://pandas.pydata.org/pandas-docs/stable/user_guide/indexing.html#returning-a-view-versus-a-copy\n",
            "  \"\"\"Entry point for launching an IPython kernel.\n"
          ]
        }
      ]
    },
    {
      "cell_type": "code",
      "metadata": {
        "colab": {
          "base_uri": "https://localhost:8080/",
          "height": 238
        },
        "id": "3RBb6KK3Ml6n",
        "outputId": "ad451afb-3f58-4a65-d38d-51c002bfc5a8"
      },
      "source": [
        "test.head()"
      ],
      "execution_count": 33,
      "outputs": [
        {
          "output_type": "execute_result",
          "data": {
            "text/html": [
              "<div>\n",
              "<style scoped>\n",
              "    .dataframe tbody tr th:only-of-type {\n",
              "        vertical-align: middle;\n",
              "    }\n",
              "\n",
              "    .dataframe tbody tr th {\n",
              "        vertical-align: top;\n",
              "    }\n",
              "\n",
              "    .dataframe thead th {\n",
              "        text-align: right;\n",
              "    }\n",
              "</style>\n",
              "<table border=\"1\" class=\"dataframe\">\n",
              "  <thead>\n",
              "    <tr style=\"text-align: right;\">\n",
              "      <th></th>\n",
              "      <th>y</th>\n",
              "      <th>Predictions</th>\n",
              "    </tr>\n",
              "    <tr>\n",
              "      <th>ds</th>\n",
              "      <th></th>\n",
              "      <th></th>\n",
              "    </tr>\n",
              "  </thead>\n",
              "  <tbody>\n",
              "    <tr>\n",
              "      <th>2012-11-01</th>\n",
              "      <td>410992</td>\n",
              "      <td>420797.900709</td>\n",
              "    </tr>\n",
              "    <tr>\n",
              "      <th>2012-12-01</th>\n",
              "      <td>461994</td>\n",
              "      <td>408912.899153</td>\n",
              "    </tr>\n",
              "    <tr>\n",
              "      <th>2013-01-01</th>\n",
              "      <td>375537</td>\n",
              "      <td>413546.116159</td>\n",
              "    </tr>\n",
              "    <tr>\n",
              "      <th>2013-02-01</th>\n",
              "      <td>373938</td>\n",
              "      <td>418661.641492</td>\n",
              "    </tr>\n",
              "    <tr>\n",
              "      <th>2013-03-01</th>\n",
              "      <td>421638</td>\n",
              "      <td>415601.799588</td>\n",
              "    </tr>\n",
              "  </tbody>\n",
              "</table>\n",
              "</div>"
            ],
            "text/plain": [
              "                 y    Predictions\n",
              "ds                               \n",
              "2012-11-01  410992  420797.900709\n",
              "2012-12-01  461994  408912.899153\n",
              "2013-01-01  375537  413546.116159\n",
              "2013-02-01  373938  418661.641492\n",
              "2013-03-01  421638  415601.799588"
            ]
          },
          "metadata": {},
          "execution_count": 33
        }
      ]
    },
    {
      "cell_type": "code",
      "metadata": {
        "colab": {
          "base_uri": "https://localhost:8080/",
          "height": 362
        },
        "id": "xJ7sI5xh9Lb0",
        "outputId": "b9981a63-cab4-4256-92cc-5a9c47a67a6e"
      },
      "source": [
        "test.plot(figsize=(14,5))"
      ],
      "execution_count": 34,
      "outputs": [
        {
          "output_type": "execute_result",
          "data": {
            "text/plain": [
              "<matplotlib.axes._subplots.AxesSubplot at 0x7f2501d7c5d0>"
            ]
          },
          "metadata": {},
          "execution_count": 34
        },
        {
          "output_type": "display_data",
          "data": {
            "image/png": "[encoded data removed]",
            "text/plain": [
              "<Figure size 1008x360 with 1 Axes>"
            ]
          },
          "metadata": {
            "needs_background": "light"
          }
        }
      ]
    },
    {
      "cell_type": "code",
      "metadata": {
        "colab": {
          "base_uri": "https://localhost:8080/"
        },
        "id": "OAh1_tvELNsZ",
        "outputId": "9d17e466-159b-4f88-cc72-6b364f9192e5"
      },
      "source": [
        "test['APE'] = (test['y'] - test['Predictions']) / test['y'] * 100"
      ],
      "execution_count": 36,
      "outputs": [
        {
          "output_type": "stream",
          "name": "stderr",
          "text": [
            "/usr/local/lib/python3.7/dist-packages/ipykernel_launcher.py:1: SettingWithCopyWarning: \n",
            "A value is trying to be set on a copy of a slice from a DataFrame.\n",
            "Try using .loc[row_indexer,col_indexer] = value instead\n",
            "\n",
            "See the caveats in the documentation: https://pandas.pydata.org/pandas-docs/stable/user_guide/indexing.html#returning-a-view-versus-a-copy\n",
            "  \"\"\"Entry point for launching an IPython kernel.\n"
          ]
        }
      ]
    },
    {
      "cell_type": "code",
      "metadata": {
        "colab": {
          "base_uri": "https://localhost:8080/",
          "height": 1000
        },
        "id": "0YrbAakxLPRJ",
        "outputId": "1efeee74-dfbe-4e74-c74d-432e778a6bb8"
      },
      "source": [
        "test"
      ],
      "execution_count": 37,
      "outputs": [
        {
          "output_type": "execute_result",
          "data": {
            "text/html": [
              "<div>\n",
              "<style scoped>\n",
              "    .dataframe tbody tr th:only-of-type {\n",
              "        vertical-align: middle;\n",
              "    }\n",
              "\n",
              "    .dataframe tbody tr th {\n",
              "        vertical-align: top;\n",
              "    }\n",
              "\n",
              "    .dataframe thead th {\n",
              "        text-align: right;\n",
              "    }\n",
              "</style>\n",
              "<table border=\"1\" class=\"dataframe\">\n",
              "  <thead>\n",
              "    <tr style=\"text-align: right;\">\n",
              "      <th></th>\n",
              "      <th>y</th>\n",
              "      <th>Predictions</th>\n",
              "      <th>APE</th>\n",
              "    </tr>\n",
              "    <tr>\n",
              "      <th>ds</th>\n",
              "      <th></th>\n",
              "      <th></th>\n",
              "      <th></th>\n",
              "    </tr>\n",
              "  </thead>\n",
              "  <tbody>\n",
              "    <tr>\n",
              "      <th>2012-11-01</th>\n",
              "      <td>410992</td>\n",
              "      <td>420797.900709</td>\n",
              "      <td>-2.385910</td>\n",
              "    </tr>\n",
              "    <tr>\n",
              "      <th>2012-12-01</th>\n",
              "      <td>461994</td>\n",
              "      <td>408912.899153</td>\n",
              "      <td>11.489565</td>\n",
              "    </tr>\n",
              "    <tr>\n",
              "      <th>2013-01-01</th>\n",
              "      <td>375537</td>\n",
              "      <td>413546.116159</td>\n",
              "      <td>-10.121271</td>\n",
              "    </tr>\n",
              "    <tr>\n",
              "      <th>2013-02-01</th>\n",
              "      <td>373938</td>\n",
              "      <td>418661.641492</td>\n",
              "      <td>-11.960176</td>\n",
              "    </tr>\n",
              "    <tr>\n",
              "      <th>2013-03-01</th>\n",
              "      <td>421638</td>\n",
              "      <td>415601.799588</td>\n",
              "      <td>1.431607</td>\n",
              "    </tr>\n",
              "    <tr>\n",
              "      <th>2013-04-01</th>\n",
              "      <td>408381</td>\n",
              "      <td>421162.566200</td>\n",
              "      <td>-3.129814</td>\n",
              "    </tr>\n",
              "    <tr>\n",
              "      <th>2013-05-01</th>\n",
              "      <td>436985</td>\n",
              "      <td>420633.400906</td>\n",
              "      <td>3.741913</td>\n",
              "    </tr>\n",
              "    <tr>\n",
              "      <th>2013-06-01</th>\n",
              "      <td>414701</td>\n",
              "      <td>423041.485129</td>\n",
              "      <td>-2.011204</td>\n",
              "    </tr>\n",
              "    <tr>\n",
              "      <th>2013-07-01</th>\n",
              "      <td>422357</td>\n",
              "      <td>424382.194914</td>\n",
              "      <td>-0.479498</td>\n",
              "    </tr>\n",
              "    <tr>\n",
              "      <th>2013-08-01</th>\n",
              "      <td>434950</td>\n",
              "      <td>425860.145574</td>\n",
              "      <td>2.089862</td>\n",
              "    </tr>\n",
              "    <tr>\n",
              "      <th>2013-09-01</th>\n",
              "      <td>396199</td>\n",
              "      <td>427403.732383</td>\n",
              "      <td>-7.876025</td>\n",
              "    </tr>\n",
              "    <tr>\n",
              "      <th>2013-10-01</th>\n",
              "      <td>415740</td>\n",
              "      <td>428663.447852</td>\n",
              "      <td>-3.108541</td>\n",
              "    </tr>\n",
              "    <tr>\n",
              "      <th>2013-11-01</th>\n",
              "      <td>423611</td>\n",
              "      <td>430855.152965</td>\n",
              "      <td>-1.710096</td>\n",
              "    </tr>\n",
              "    <tr>\n",
              "      <th>2013-12-01</th>\n",
              "      <td>477205</td>\n",
              "      <td>431347.778922</td>\n",
              "      <td>9.609543</td>\n",
              "    </tr>\n",
              "    <tr>\n",
              "      <th>2014-01-01</th>\n",
              "      <td>383399</td>\n",
              "      <td>432814.902438</td>\n",
              "      <td>-12.888897</td>\n",
              "    </tr>\n",
              "    <tr>\n",
              "      <th>2014-02-01</th>\n",
              "      <td>380315</td>\n",
              "      <td>434203.324444</td>\n",
              "      <td>-14.169392</td>\n",
              "    </tr>\n",
              "    <tr>\n",
              "      <th>2014-03-01</th>\n",
              "      <td>432806</td>\n",
              "      <td>434775.197818</td>\n",
              "      <td>-0.454984</td>\n",
              "    </tr>\n",
              "    <tr>\n",
              "      <th>2014-04-01</th>\n",
              "      <td>431415</td>\n",
              "      <td>435388.541883</td>\n",
              "      <td>-0.921049</td>\n",
              "    </tr>\n",
              "    <tr>\n",
              "      <th>2014-05-01</th>\n",
              "      <td>458822</td>\n",
              "      <td>438221.778029</td>\n",
              "      <td>4.489807</td>\n",
              "    </tr>\n",
              "    <tr>\n",
              "      <th>2014-06-01</th>\n",
              "      <td>433152</td>\n",
              "      <td>437103.852656</td>\n",
              "      <td>-0.912348</td>\n",
              "    </tr>\n",
              "    <tr>\n",
              "      <th>2014-07-01</th>\n",
              "      <td>443005</td>\n",
              "      <td>438032.111940</td>\n",
              "      <td>1.122535</td>\n",
              "    </tr>\n",
              "    <tr>\n",
              "      <th>2014-08-01</th>\n",
              "      <td>450913</td>\n",
              "      <td>440042.012017</td>\n",
              "      <td>2.410884</td>\n",
              "    </tr>\n",
              "    <tr>\n",
              "      <th>2014-09-01</th>\n",
              "      <td>420871</td>\n",
              "      <td>439029.774128</td>\n",
              "      <td>-4.314570</td>\n",
              "    </tr>\n",
              "    <tr>\n",
              "      <th>2014-10-01</th>\n",
              "      <td>437702</td>\n",
              "      <td>440828.808750</td>\n",
              "      <td>-0.714369</td>\n",
              "    </tr>\n",
              "    <tr>\n",
              "      <th>2014-11-01</th>\n",
              "      <td>437910</td>\n",
              "      <td>440575.872107</td>\n",
              "      <td>-0.608772</td>\n",
              "    </tr>\n",
              "    <tr>\n",
              "      <th>2014-12-01</th>\n",
              "      <td>501232</td>\n",
              "      <td>441105.910851</td>\n",
              "      <td>11.995661</td>\n",
              "    </tr>\n",
              "    <tr>\n",
              "      <th>2015-01-01</th>\n",
              "      <td>397252</td>\n",
              "      <td>441588.291965</td>\n",
              "      <td>-11.160747</td>\n",
              "    </tr>\n",
              "    <tr>\n",
              "      <th>2015-02-01</th>\n",
              "      <td>386935</td>\n",
              "      <td>441683.152304</td>\n",
              "      <td>-14.149186</td>\n",
              "    </tr>\n",
              "    <tr>\n",
              "      <th>2015-03-01</th>\n",
              "      <td>444110</td>\n",
              "      <td>442006.401695</td>\n",
              "      <td>0.473666</td>\n",
              "    </tr>\n",
              "    <tr>\n",
              "      <th>2015-04-01</th>\n",
              "      <td>438217</td>\n",
              "      <td>441863.938315</td>\n",
              "      <td>-0.832222</td>\n",
              "    </tr>\n",
              "    <tr>\n",
              "      <th>2015-05-01</th>\n",
              "      <td>462615</td>\n",
              "      <td>442501.684397</td>\n",
              "      <td>4.347744</td>\n",
              "    </tr>\n",
              "    <tr>\n",
              "      <th>2015-06-01</th>\n",
              "      <td>448229</td>\n",
              "      <td>441868.232779</td>\n",
              "      <td>1.419089</td>\n",
              "    </tr>\n",
              "    <tr>\n",
              "      <th>2015-07-01</th>\n",
              "      <td>457710</td>\n",
              "      <td>442230.459889</td>\n",
              "      <td>3.381954</td>\n",
              "    </tr>\n",
              "    <tr>\n",
              "      <th>2015-08-01</th>\n",
              "      <td>456340</td>\n",
              "      <td>442182.529305</td>\n",
              "      <td>3.102395</td>\n",
              "    </tr>\n",
              "    <tr>\n",
              "      <th>2015-09-01</th>\n",
              "      <td>430917</td>\n",
              "      <td>441720.929029</td>\n",
              "      <td>-2.507195</td>\n",
              "    </tr>\n",
              "    <tr>\n",
              "      <th>2015-10-01</th>\n",
              "      <td>444959</td>\n",
              "      <td>441748.533697</td>\n",
              "      <td>0.721520</td>\n",
              "    </tr>\n",
              "    <tr>\n",
              "      <th>2015-11-01</th>\n",
              "      <td>444507</td>\n",
              "      <td>441775.556065</td>\n",
              "      <td>0.614488</td>\n",
              "    </tr>\n",
              "    <tr>\n",
              "      <th>2015-12-01</th>\n",
              "      <td>518253</td>\n",
              "      <td>440950.200142</td>\n",
              "      <td>14.916035</td>\n",
              "    </tr>\n",
              "    <tr>\n",
              "      <th>2016-01-01</th>\n",
              "      <td>400928</td>\n",
              "      <td>441096.976183</td>\n",
              "      <td>-10.019000</td>\n",
              "    </tr>\n",
              "    <tr>\n",
              "      <th>2016-02-01</th>\n",
              "      <td>413554</td>\n",
              "      <td>440812.213195</td>\n",
              "      <td>-6.591210</td>\n",
              "    </tr>\n",
              "    <tr>\n",
              "      <th>2016-03-01</th>\n",
              "      <td>460093</td>\n",
              "      <td>439962.728208</td>\n",
              "      <td>4.375261</td>\n",
              "    </tr>\n",
              "    <tr>\n",
              "      <th>2016-04-01</th>\n",
              "      <td>450935</td>\n",
              "      <td>440340.659225</td>\n",
              "      <td>2.349416</td>\n",
              "    </tr>\n",
              "    <tr>\n",
              "      <th>2016-05-01</th>\n",
              "      <td>471421</td>\n",
              "      <td>439310.151668</td>\n",
              "      <td>6.811501</td>\n",
              "    </tr>\n",
              "  </tbody>\n",
              "</table>\n",
              "</div>"
            ],
            "text/plain": [
              "                 y    Predictions        APE\n",
              "ds                                          \n",
              "2012-11-01  410992  420797.900709  -2.385910\n",
              "2012-12-01  461994  408912.899153  11.489565\n",
              "2013-01-01  375537  413546.116159 -10.121271\n",
              "2013-02-01  373938  418661.641492 -11.960176\n",
              "2013-03-01  421638  415601.799588   1.431607\n",
              "2013-04-01  408381  421162.566200  -3.129814\n",
              "2013-05-01  436985  420633.400906   3.741913\n",
              "2013-06-01  414701  423041.485129  -2.011204\n",
              "2013-07-01  422357  424382.194914  -0.479498\n",
              "2013-08-01  434950  425860.145574   2.089862\n",
              "2013-09-01  396199  427403.732383  -7.876025\n",
              "2013-10-01  415740  428663.447852  -3.108541\n",
              "2013-11-01  423611  430855.152965  -1.710096\n",
              "2013-12-01  477205  431347.778922   9.609543\n",
              "2014-01-01  383399  432814.902438 -12.888897\n",
              "2014-02-01  380315  434203.324444 -14.169392\n",
              "2014-03-01  432806  434775.197818  -0.454984\n",
              "2014-04-01  431415  435388.541883  -0.921049\n",
              "2014-05-01  458822  438221.778029   4.489807\n",
              "2014-06-01  433152  437103.852656  -0.912348\n",
              "2014-07-01  443005  438032.111940   1.122535\n",
              "2014-08-01  450913  440042.012017   2.410884\n",
              "2014-09-01  420871  439029.774128  -4.314570\n",
              "2014-10-01  437702  440828.808750  -0.714369\n",
              "2014-11-01  437910  440575.872107  -0.608772\n",
              "2014-12-01  501232  441105.910851  11.995661\n",
              "2015-01-01  397252  441588.291965 -11.160747\n",
              "2015-02-01  386935  441683.152304 -14.149186\n",
              "2015-03-01  444110  442006.401695   0.473666\n",
              "2015-04-01  438217  441863.938315  -0.832222\n",
              "2015-05-01  462615  442501.684397   4.347744\n",
              "2015-06-01  448229  441868.232779   1.419089\n",
              "2015-07-01  457710  442230.459889   3.381954\n",
              "2015-08-01  456340  442182.529305   3.102395\n",
              "2015-09-01  430917  441720.929029  -2.507195\n",
              "2015-10-01  444959  441748.533697   0.721520\n",
              "2015-11-01  444507  441775.556065   0.614488\n",
              "2015-12-01  518253  440950.200142  14.916035\n",
              "2016-01-01  400928  441096.976183 -10.019000\n",
              "2016-02-01  413554  440812.213195  -6.591210\n",
              "2016-03-01  460093  439962.728208   4.375261\n",
              "2016-04-01  450935  440340.659225   2.349416\n",
              "2016-05-01  471421  439310.151668   6.811501"
            ]
          },
          "metadata": {},
          "execution_count": 37
        }
      ]
    },
    {
      "cell_type": "code",
      "metadata": {
        "colab": {
          "base_uri": "https://localhost:8080/"
        },
        "id": "oxVJcPLHLZvk",
        "outputId": "1d14ed43-b622-49ef-ae02-c07ee662b771"
      },
      "source": [
        "test['APE'].mean()"
      ],
      "execution_count": 38,
      "outputs": [
        {
          "output_type": "execute_result",
          "data": {
            "text/plain": [
              "-0.7472564808944812"
            ]
          },
          "metadata": {},
          "execution_count": 38
        }
      ]
    },
    {
      "cell_type": "code",
      "metadata": {
        "colab": {
          "base_uri": "https://localhost:8080/"
        },
        "id": "5NjB7RLmMt2l",
        "outputId": "3d61499e-c8ea-4379-9832-a944cffb2748"
      },
      "source": [
        "test.shape"
      ],
      "execution_count": 40,
      "outputs": [
        {
          "output_type": "execute_result",
          "data": {
            "text/plain": [
              "(43, 3)"
            ]
          },
          "metadata": {},
          "execution_count": 40
        }
      ]
    },
    {
      "cell_type": "code",
      "metadata": {
        "id": "5BAqHgM6M0hs"
      },
      "source": [
        ""
      ],
      "execution_count": null,
      "outputs": []
    }
  ]
}