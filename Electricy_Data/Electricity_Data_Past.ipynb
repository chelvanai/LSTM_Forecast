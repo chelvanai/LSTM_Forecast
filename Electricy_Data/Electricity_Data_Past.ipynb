{
  "cells": [
    {
      "cell_type": "code",
      "source": [
        "!pip install -q darts"
      ],
      "metadata": {
        "id": "TwHaAsADIwsz",
        "outputId": "f5c2808b-61cf-4578-cfe0-7d51ffa731d4",
        "colab": {
          "base_uri": "https://localhost:8080/"
        }
      },
      "execution_count": 1,
      "outputs": [
        {
          "output_type": "stream",
          "name": "stdout",
          "text": [
            "\u001b[K     |████████████████████████████████| 290 kB 5.3 MB/s \n",
            "\u001b[K     |████████████████████████████████| 791 kB 33.3 MB/s \n",
            "\u001b[K     |████████████████████████████████| 155 kB 33.8 MB/s \n",
            "\u001b[K     |████████████████████████████████| 1.4 MB 17.9 MB/s \n",
            "\u001b[K     |████████████████████████████████| 65 kB 3.3 MB/s \n",
            "\u001b[K     |████████████████████████████████| 9.8 MB 33.6 MB/s \n",
            "\u001b[K     |████████████████████████████████| 11.2 MB 49.4 MB/s \n",
            "\u001b[K     |████████████████████████████████| 177 kB 50.8 MB/s \n",
            "\u001b[K     |████████████████████████████████| 374 kB 46.8 MB/s \n",
            "\u001b[K     |████████████████████████████████| 884 kB 51.5 MB/s \n",
            "\u001b[K     |████████████████████████████████| 49 kB 4.8 MB/s \n",
            "\u001b[K     |████████████████████████████████| 216 kB 51.0 MB/s \n",
            "\u001b[?25h  Building wheel for filterpy (setup.py) ... \u001b[?25l\u001b[?25hdone\n",
            "  Building wheel for prophet (setup.py) ... \u001b[?25l\u001b[?25hdone\n",
            "\u001b[31mERROR: pip's dependency resolver does not currently take into account all the packages that are installed. This behaviour is the source of the following dependency conflicts.\n",
            "jupyter-console 5.2.0 requires prompt-toolkit<2.0.0,>=1.0.0, but you have prompt-toolkit 3.0.24 which is incompatible.\n",
            "google-colab 1.0.0 requires ipython~=5.5.0, but you have ipython 7.30.1 which is incompatible.\n",
            "fbprophet 0.7.1 requires cmdstanpy==0.9.5, but you have cmdstanpy 0.9.68 which is incompatible.\n",
            "albumentations 0.1.12 requires imgaug<0.2.7,>=0.2.5, but you have imgaug 0.2.9 which is incompatible.\u001b[0m\n"
          ]
        }
      ]
    },
    {
      "cell_type": "code",
      "source": [
        "!pip install -q matplotlib==3.1.3"
      ],
      "metadata": {
        "id": "nS8uSxvoIwij",
        "colab": {
          "base_uri": "https://localhost:8080/"
        },
        "outputId": "b9869720-a045-4286-8902-648692abc025"
      },
      "execution_count": 2,
      "outputs": [
        {
          "output_type": "stream",
          "name": "stdout",
          "text": [
            "\u001b[K     |████████████████████████████████| 13.1 MB 110 kB/s \n",
            "\u001b[31mERROR: pip's dependency resolver does not currently take into account all the packages that are installed. This behaviour is the source of the following dependency conflicts.\n",
            "fbprophet 0.7.1 requires cmdstanpy==0.9.5, but you have cmdstanpy 0.9.68 which is incompatible.\n",
            "darts 0.14.0 requires matplotlib>=3.3.0, but you have matplotlib 3.1.3 which is incompatible.\n",
            "albumentations 0.1.12 requires imgaug<0.2.7,>=0.2.5, but you have imgaug 0.2.9 which is incompatible.\u001b[0m\n",
            "\u001b[?25h"
          ]
        }
      ]
    },
    {
      "cell_type": "code",
      "execution_count": 3,
      "metadata": {
        "id": "FYotKkIFIvf7"
      },
      "outputs": [],
      "source": [
        "import numpy as np\n",
        "import pandas as pd\n",
        "import torch\n",
        "import matplotlib.pyplot as plt\n",
        "\n",
        "from darts import TimeSeries\n",
        "from darts.utils.timeseries_generation import datetime_attribute_timeseries\n",
        "from darts.models import RNNModel, TCNModel, TransformerModel, NBEATSModel, BlockRNNModel\n",
        "from darts.metrics import mape, smape\n",
        "from darts.dataprocessing.transformers import Scaler\n",
        "import sklearn.preprocessing as preprocessing"
      ]
    },
    {
      "cell_type": "code",
      "execution_count": 4,
      "metadata": {
        "id": "4nLcKrfVIvf-"
      },
      "outputs": [],
      "source": [
        "df = pd.read_csv('Electricity_demand.csv')"
      ]
    },
    {
      "cell_type": "code",
      "execution_count": 5,
      "metadata": {
        "id": "OTgB4Do6Ivf_",
        "outputId": "64bf1aa4-a553-4824-d9af-98c60ae6e600",
        "colab": {
          "base_uri": "https://localhost:8080/",
          "height": 226
        }
      },
      "outputs": [
        {
          "output_type": "execute_result",
          "data": {
            "text/html": [
              "<div>\n",
              "<style scoped>\n",
              "    .dataframe tbody tr th:only-of-type {\n",
              "        vertical-align: middle;\n",
              "    }\n",
              "\n",
              "    .dataframe tbody tr th {\n",
              "        vertical-align: top;\n",
              "    }\n",
              "\n",
              "    .dataframe thead th {\n",
              "        text-align: right;\n",
              "    }\n",
              "</style>\n",
              "<table border=\"1\" class=\"dataframe\">\n",
              "  <thead>\n",
              "    <tr style=\"text-align: right;\">\n",
              "      <th></th>\n",
              "      <th>date</th>\n",
              "      <th>demand</th>\n",
              "      <th>RRP</th>\n",
              "      <th>demand_pos_RRP</th>\n",
              "      <th>RRP_positive</th>\n",
              "      <th>demand_neg_RRP</th>\n",
              "      <th>RRP_negative</th>\n",
              "      <th>frac_at_neg_RRP</th>\n",
              "      <th>min_temperature</th>\n",
              "      <th>max_temperature</th>\n",
              "      <th>solar_exposure</th>\n",
              "      <th>rainfall</th>\n",
              "      <th>school_day</th>\n",
              "      <th>holiday</th>\n",
              "    </tr>\n",
              "  </thead>\n",
              "  <tbody>\n",
              "    <tr>\n",
              "      <th>0</th>\n",
              "      <td>2015-01-01</td>\n",
              "      <td>99635.030</td>\n",
              "      <td>25.633696</td>\n",
              "      <td>97319.240</td>\n",
              "      <td>26.415953</td>\n",
              "      <td>2315.790</td>\n",
              "      <td>-7.240000</td>\n",
              "      <td>0.020833</td>\n",
              "      <td>13.3</td>\n",
              "      <td>26.9</td>\n",
              "      <td>23.6</td>\n",
              "      <td>0.0</td>\n",
              "      <td>N</td>\n",
              "      <td>Y</td>\n",
              "    </tr>\n",
              "    <tr>\n",
              "      <th>1</th>\n",
              "      <td>2015-01-02</td>\n",
              "      <td>129606.010</td>\n",
              "      <td>33.138988</td>\n",
              "      <td>121082.015</td>\n",
              "      <td>38.837661</td>\n",
              "      <td>8523.995</td>\n",
              "      <td>-47.809777</td>\n",
              "      <td>0.062500</td>\n",
              "      <td>15.4</td>\n",
              "      <td>38.8</td>\n",
              "      <td>26.8</td>\n",
              "      <td>0.0</td>\n",
              "      <td>N</td>\n",
              "      <td>N</td>\n",
              "    </tr>\n",
              "    <tr>\n",
              "      <th>2</th>\n",
              "      <td>2015-01-03</td>\n",
              "      <td>142300.540</td>\n",
              "      <td>34.564855</td>\n",
              "      <td>142300.540</td>\n",
              "      <td>34.564855</td>\n",
              "      <td>0.000</td>\n",
              "      <td>0.000000</td>\n",
              "      <td>0.000000</td>\n",
              "      <td>20.0</td>\n",
              "      <td>38.2</td>\n",
              "      <td>26.5</td>\n",
              "      <td>0.0</td>\n",
              "      <td>N</td>\n",
              "      <td>N</td>\n",
              "    </tr>\n",
              "    <tr>\n",
              "      <th>3</th>\n",
              "      <td>2015-01-04</td>\n",
              "      <td>104330.715</td>\n",
              "      <td>25.005560</td>\n",
              "      <td>104330.715</td>\n",
              "      <td>25.005560</td>\n",
              "      <td>0.000</td>\n",
              "      <td>0.000000</td>\n",
              "      <td>0.000000</td>\n",
              "      <td>16.3</td>\n",
              "      <td>21.4</td>\n",
              "      <td>25.2</td>\n",
              "      <td>4.2</td>\n",
              "      <td>N</td>\n",
              "      <td>N</td>\n",
              "    </tr>\n",
              "    <tr>\n",
              "      <th>4</th>\n",
              "      <td>2015-01-05</td>\n",
              "      <td>118132.200</td>\n",
              "      <td>26.724176</td>\n",
              "      <td>118132.200</td>\n",
              "      <td>26.724176</td>\n",
              "      <td>0.000</td>\n",
              "      <td>0.000000</td>\n",
              "      <td>0.000000</td>\n",
              "      <td>15.0</td>\n",
              "      <td>22.0</td>\n",
              "      <td>30.7</td>\n",
              "      <td>0.0</td>\n",
              "      <td>N</td>\n",
              "      <td>N</td>\n",
              "    </tr>\n",
              "  </tbody>\n",
              "</table>\n",
              "</div>"
            ],
            "text/plain": [
              "         date      demand        RRP  ...  rainfall  school_day  holiday\n",
              "0  2015-01-01   99635.030  25.633696  ...       0.0           N        Y\n",
              "1  2015-01-02  129606.010  33.138988  ...       0.0           N        N\n",
              "2  2015-01-03  142300.540  34.564855  ...       0.0           N        N\n",
              "3  2015-01-04  104330.715  25.005560  ...       4.2           N        N\n",
              "4  2015-01-05  118132.200  26.724176  ...       0.0           N        N\n",
              "\n",
              "[5 rows x 14 columns]"
            ]
          },
          "metadata": {},
          "execution_count": 5
        }
      ],
      "source": [
        "df.head(5)"
      ]
    },
    {
      "cell_type": "code",
      "execution_count": 6,
      "metadata": {
        "id": "CfDt3Al1IvgA",
        "outputId": "98b5c16e-0745-4b8f-9f0b-43cdd4103be7",
        "colab": {
          "base_uri": "https://localhost:8080/"
        }
      },
      "outputs": [
        {
          "output_type": "execute_result",
          "data": {
            "text/plain": [
              "(2106, 14)"
            ]
          },
          "metadata": {},
          "execution_count": 6
        }
      ],
      "source": [
        "df.shape"
      ]
    },
    {
      "cell_type": "code",
      "execution_count": 7,
      "metadata": {
        "id": "5MvvB7D2IvgD",
        "outputId": "e7056c8f-8662-4a2d-a0ef-e099234d3848",
        "colab": {
          "base_uri": "https://localhost:8080/"
        }
      },
      "outputs": [
        {
          "output_type": "execute_result",
          "data": {
            "text/plain": [
              "Index(['date', 'demand', 'RRP', 'demand_pos_RRP', 'RRP_positive',\n",
              "       'demand_neg_RRP', 'RRP_negative', 'frac_at_neg_RRP', 'min_temperature',\n",
              "       'max_temperature', 'solar_exposure', 'rainfall', 'school_day',\n",
              "       'holiday'],\n",
              "      dtype='object')"
            ]
          },
          "metadata": {},
          "execution_count": 7
        }
      ],
      "source": [
        "df.columns"
      ]
    },
    {
      "cell_type": "code",
      "execution_count": 8,
      "metadata": {
        "id": "MG6L3gkBIvgG",
        "outputId": "2a192009-4f47-4f17-8f7b-f03f2b9e2330",
        "colab": {
          "base_uri": "https://localhost:8080/"
        }
      },
      "outputs": [
        {
          "output_type": "execute_result",
          "data": {
            "text/plain": [
              "date                object\n",
              "demand             float64\n",
              "RRP                float64\n",
              "demand_pos_RRP     float64\n",
              "RRP_positive       float64\n",
              "demand_neg_RRP     float64\n",
              "RRP_negative       float64\n",
              "frac_at_neg_RRP    float64\n",
              "min_temperature    float64\n",
              "max_temperature    float64\n",
              "solar_exposure     float64\n",
              "rainfall           float64\n",
              "school_day          object\n",
              "holiday             object\n",
              "dtype: object"
            ]
          },
          "metadata": {},
          "execution_count": 8
        }
      ],
      "source": [
        "df.dtypes"
      ]
    },
    {
      "cell_type": "code",
      "execution_count": 9,
      "metadata": {
        "id": "w9vQUkpaIvgH"
      },
      "outputs": [],
      "source": [
        "le = preprocessing.LabelEncoder()\n",
        "df['school_day'] = le.fit_transform(df.school_day.values)\n",
        "df['holiday'] = le.fit_transform(df.holiday.values)"
      ]
    },
    {
      "cell_type": "code",
      "execution_count": 10,
      "metadata": {
        "id": "sV2pNZVnIvgJ"
      },
      "outputs": [],
      "source": [
        "df['date'] = df['date'].apply(pd.to_datetime)"
      ]
    },
    {
      "cell_type": "code",
      "execution_count": 11,
      "metadata": {
        "id": "dJRHHSoFIvgO"
      },
      "outputs": [],
      "source": [
        "torch.manual_seed(1); np.random.seed(1)  # for reproducibility"
      ]
    },
    {
      "cell_type": "code",
      "execution_count": 12,
      "metadata": {
        "id": "7cwOaq7lIvgP",
        "outputId": "8cf811f7-2ede-427c-e842-5949b798ef84",
        "colab": {
          "base_uri": "https://localhost:8080/"
        }
      },
      "outputs": [
        {
          "output_type": "execute_result",
          "data": {
            "text/plain": [
              "date               0\n",
              "demand             0\n",
              "RRP                0\n",
              "demand_pos_RRP     0\n",
              "RRP_positive       0\n",
              "demand_neg_RRP     0\n",
              "RRP_negative       0\n",
              "frac_at_neg_RRP    0\n",
              "min_temperature    0\n",
              "max_temperature    0\n",
              "solar_exposure     1\n",
              "rainfall           3\n",
              "school_day         0\n",
              "holiday            0\n",
              "dtype: int64"
            ]
          },
          "metadata": {},
          "execution_count": 12
        }
      ],
      "source": [
        "df.isna().sum()"
      ]
    },
    {
      "cell_type": "code",
      "execution_count": 13,
      "metadata": {
        "id": "Xfpjgot4IvgR"
      },
      "outputs": [],
      "source": [
        "df = df.fillna(0)"
      ]
    },
    {
      "cell_type": "code",
      "execution_count": 14,
      "metadata": {
        "id": "eJR3_OH-IvgR",
        "outputId": "f84861f5-deea-4034-8ce0-5d0edad2fffb",
        "colab": {
          "base_uri": "https://localhost:8080/",
          "height": 226
        }
      },
      "outputs": [
        {
          "output_type": "execute_result",
          "data": {
            "text/html": [
              "<div>\n",
              "<style scoped>\n",
              "    .dataframe tbody tr th:only-of-type {\n",
              "        vertical-align: middle;\n",
              "    }\n",
              "\n",
              "    .dataframe tbody tr th {\n",
              "        vertical-align: top;\n",
              "    }\n",
              "\n",
              "    .dataframe thead th {\n",
              "        text-align: right;\n",
              "    }\n",
              "</style>\n",
              "<table border=\"1\" class=\"dataframe\">\n",
              "  <thead>\n",
              "    <tr style=\"text-align: right;\">\n",
              "      <th></th>\n",
              "      <th>date</th>\n",
              "      <th>demand</th>\n",
              "      <th>RRP</th>\n",
              "      <th>demand_pos_RRP</th>\n",
              "      <th>RRP_positive</th>\n",
              "      <th>demand_neg_RRP</th>\n",
              "      <th>RRP_negative</th>\n",
              "      <th>frac_at_neg_RRP</th>\n",
              "      <th>min_temperature</th>\n",
              "      <th>max_temperature</th>\n",
              "      <th>solar_exposure</th>\n",
              "      <th>rainfall</th>\n",
              "      <th>school_day</th>\n",
              "      <th>holiday</th>\n",
              "    </tr>\n",
              "  </thead>\n",
              "  <tbody>\n",
              "    <tr>\n",
              "      <th>0</th>\n",
              "      <td>2015-01-01</td>\n",
              "      <td>99635.030</td>\n",
              "      <td>25.633696</td>\n",
              "      <td>97319.240</td>\n",
              "      <td>26.415953</td>\n",
              "      <td>2315.790</td>\n",
              "      <td>-7.240000</td>\n",
              "      <td>0.020833</td>\n",
              "      <td>13.3</td>\n",
              "      <td>26.9</td>\n",
              "      <td>23.6</td>\n",
              "      <td>0.0</td>\n",
              "      <td>0</td>\n",
              "      <td>1</td>\n",
              "    </tr>\n",
              "    <tr>\n",
              "      <th>1</th>\n",
              "      <td>2015-01-02</td>\n",
              "      <td>129606.010</td>\n",
              "      <td>33.138988</td>\n",
              "      <td>121082.015</td>\n",
              "      <td>38.837661</td>\n",
              "      <td>8523.995</td>\n",
              "      <td>-47.809777</td>\n",
              "      <td>0.062500</td>\n",
              "      <td>15.4</td>\n",
              "      <td>38.8</td>\n",
              "      <td>26.8</td>\n",
              "      <td>0.0</td>\n",
              "      <td>0</td>\n",
              "      <td>0</td>\n",
              "    </tr>\n",
              "    <tr>\n",
              "      <th>2</th>\n",
              "      <td>2015-01-03</td>\n",
              "      <td>142300.540</td>\n",
              "      <td>34.564855</td>\n",
              "      <td>142300.540</td>\n",
              "      <td>34.564855</td>\n",
              "      <td>0.000</td>\n",
              "      <td>0.000000</td>\n",
              "      <td>0.000000</td>\n",
              "      <td>20.0</td>\n",
              "      <td>38.2</td>\n",
              "      <td>26.5</td>\n",
              "      <td>0.0</td>\n",
              "      <td>0</td>\n",
              "      <td>0</td>\n",
              "    </tr>\n",
              "    <tr>\n",
              "      <th>3</th>\n",
              "      <td>2015-01-04</td>\n",
              "      <td>104330.715</td>\n",
              "      <td>25.005560</td>\n",
              "      <td>104330.715</td>\n",
              "      <td>25.005560</td>\n",
              "      <td>0.000</td>\n",
              "      <td>0.000000</td>\n",
              "      <td>0.000000</td>\n",
              "      <td>16.3</td>\n",
              "      <td>21.4</td>\n",
              "      <td>25.2</td>\n",
              "      <td>4.2</td>\n",
              "      <td>0</td>\n",
              "      <td>0</td>\n",
              "    </tr>\n",
              "    <tr>\n",
              "      <th>4</th>\n",
              "      <td>2015-01-05</td>\n",
              "      <td>118132.200</td>\n",
              "      <td>26.724176</td>\n",
              "      <td>118132.200</td>\n",
              "      <td>26.724176</td>\n",
              "      <td>0.000</td>\n",
              "      <td>0.000000</td>\n",
              "      <td>0.000000</td>\n",
              "      <td>15.0</td>\n",
              "      <td>22.0</td>\n",
              "      <td>30.7</td>\n",
              "      <td>0.0</td>\n",
              "      <td>0</td>\n",
              "      <td>0</td>\n",
              "    </tr>\n",
              "  </tbody>\n",
              "</table>\n",
              "</div>"
            ],
            "text/plain": [
              "        date      demand        RRP  ...  rainfall  school_day  holiday\n",
              "0 2015-01-01   99635.030  25.633696  ...       0.0           0        1\n",
              "1 2015-01-02  129606.010  33.138988  ...       0.0           0        0\n",
              "2 2015-01-03  142300.540  34.564855  ...       0.0           0        0\n",
              "3 2015-01-04  104330.715  25.005560  ...       4.2           0        0\n",
              "4 2015-01-05  118132.200  26.724176  ...       0.0           0        0\n",
              "\n",
              "[5 rows x 14 columns]"
            ]
          },
          "metadata": {},
          "execution_count": 14
        }
      ],
      "source": [
        "df.head(5)"
      ]
    },
    {
      "cell_type": "code",
      "source": [
        "df.tail()"
      ],
      "metadata": {
        "colab": {
          "base_uri": "https://localhost:8080/",
          "height": 226
        },
        "id": "S9s_J55qQqc2",
        "outputId": "96960bee-3e90-40ee-9d94-3aaeeeaa26ed"
      },
      "execution_count": 31,
      "outputs": [
        {
          "output_type": "execute_result",
          "data": {
            "text/html": [
              "<div>\n",
              "<style scoped>\n",
              "    .dataframe tbody tr th:only-of-type {\n",
              "        vertical-align: middle;\n",
              "    }\n",
              "\n",
              "    .dataframe tbody tr th {\n",
              "        vertical-align: top;\n",
              "    }\n",
              "\n",
              "    .dataframe thead th {\n",
              "        text-align: right;\n",
              "    }\n",
              "</style>\n",
              "<table border=\"1\" class=\"dataframe\">\n",
              "  <thead>\n",
              "    <tr style=\"text-align: right;\">\n",
              "      <th></th>\n",
              "      <th>date</th>\n",
              "      <th>demand</th>\n",
              "      <th>RRP</th>\n",
              "      <th>demand_pos_RRP</th>\n",
              "      <th>RRP_positive</th>\n",
              "      <th>demand_neg_RRP</th>\n",
              "      <th>RRP_negative</th>\n",
              "      <th>frac_at_neg_RRP</th>\n",
              "      <th>min_temperature</th>\n",
              "      <th>max_temperature</th>\n",
              "      <th>solar_exposure</th>\n",
              "      <th>rainfall</th>\n",
              "      <th>school_day</th>\n",
              "      <th>holiday</th>\n",
              "    </tr>\n",
              "  </thead>\n",
              "  <tbody>\n",
              "    <tr>\n",
              "      <th>2101</th>\n",
              "      <td>2020-10-02</td>\n",
              "      <td>99585.835</td>\n",
              "      <td>-6.076028</td>\n",
              "      <td>41988.240</td>\n",
              "      <td>26.980251</td>\n",
              "      <td>57597.595</td>\n",
              "      <td>-30.173823</td>\n",
              "      <td>0.625000</td>\n",
              "      <td>12.8</td>\n",
              "      <td>26.0</td>\n",
              "      <td>22.0</td>\n",
              "      <td>0.0</td>\n",
              "      <td>0</td>\n",
              "      <td>0</td>\n",
              "    </tr>\n",
              "    <tr>\n",
              "      <th>2102</th>\n",
              "      <td>2020-10-03</td>\n",
              "      <td>92277.025</td>\n",
              "      <td>-1.983471</td>\n",
              "      <td>44133.510</td>\n",
              "      <td>32.438156</td>\n",
              "      <td>48143.515</td>\n",
              "      <td>-33.538025</td>\n",
              "      <td>0.583333</td>\n",
              "      <td>17.4</td>\n",
              "      <td>29.4</td>\n",
              "      <td>19.8</td>\n",
              "      <td>0.0</td>\n",
              "      <td>0</td>\n",
              "      <td>0</td>\n",
              "    </tr>\n",
              "    <tr>\n",
              "      <th>2103</th>\n",
              "      <td>2020-10-04</td>\n",
              "      <td>94081.565</td>\n",
              "      <td>25.008614</td>\n",
              "      <td>88580.995</td>\n",
              "      <td>26.571687</td>\n",
              "      <td>5500.570</td>\n",
              "      <td>-0.163066</td>\n",
              "      <td>0.062500</td>\n",
              "      <td>13.5</td>\n",
              "      <td>29.5</td>\n",
              "      <td>8.4</td>\n",
              "      <td>0.0</td>\n",
              "      <td>0</td>\n",
              "      <td>0</td>\n",
              "    </tr>\n",
              "    <tr>\n",
              "      <th>2104</th>\n",
              "      <td>2020-10-05</td>\n",
              "      <td>113610.030</td>\n",
              "      <td>36.764701</td>\n",
              "      <td>106587.375</td>\n",
              "      <td>39.616015</td>\n",
              "      <td>7022.655</td>\n",
              "      <td>-6.511550</td>\n",
              "      <td>0.083333</td>\n",
              "      <td>9.1</td>\n",
              "      <td>12.7</td>\n",
              "      <td>7.3</td>\n",
              "      <td>12.8</td>\n",
              "      <td>0</td>\n",
              "      <td>0</td>\n",
              "    </tr>\n",
              "    <tr>\n",
              "      <th>2105</th>\n",
              "      <td>2020-10-06</td>\n",
              "      <td>122607.560</td>\n",
              "      <td>75.771059</td>\n",
              "      <td>122607.560</td>\n",
              "      <td>75.771059</td>\n",
              "      <td>0.000</td>\n",
              "      <td>0.000000</td>\n",
              "      <td>0.000000</td>\n",
              "      <td>8.9</td>\n",
              "      <td>12.6</td>\n",
              "      <td>5.8</td>\n",
              "      <td>1.0</td>\n",
              "      <td>0</td>\n",
              "      <td>0</td>\n",
              "    </tr>\n",
              "  </tbody>\n",
              "</table>\n",
              "</div>"
            ],
            "text/plain": [
              "           date      demand        RRP  ...  rainfall  school_day  holiday\n",
              "2101 2020-10-02   99585.835  -6.076028  ...       0.0           0        0\n",
              "2102 2020-10-03   92277.025  -1.983471  ...       0.0           0        0\n",
              "2103 2020-10-04   94081.565  25.008614  ...       0.0           0        0\n",
              "2104 2020-10-05  113610.030  36.764701  ...      12.8           0        0\n",
              "2105 2020-10-06  122607.560  75.771059  ...       1.0           0        0\n",
              "\n",
              "[5 rows x 14 columns]"
            ]
          },
          "metadata": {},
          "execution_count": 31
        }
      ]
    },
    {
      "cell_type": "code",
      "execution_count": 15,
      "metadata": {
        "id": "FEjpLwv7IvgS"
      },
      "outputs": [],
      "source": [
        "series = TimeSeries.from_dataframe(df, 'date', 'demand',fill_missing_dates=True)"
      ]
    },
    {
      "cell_type": "code",
      "execution_count": 16,
      "metadata": {
        "id": "no9Y3MuTIvgW",
        "outputId": "6f899f31-cbc1-45c1-a46a-5b2b79b2d71b",
        "colab": {
          "base_uri": "https://localhost:8080/",
          "height": 288
        }
      },
      "outputs": [
        {
          "output_type": "display_data",
          "data": {
            "image/png": "[encoded data removed]",
            "text/plain": [
              "<Figure size 432x288 with 1 Axes>"
            ]
          },
          "metadata": {
            "needs_background": "light"
          }
        }
      ],
      "source": [
        "series.plot()\n",
        "plt.show()"
      ]
    },
    {
      "cell_type": "code",
      "execution_count": 43,
      "metadata": {
        "id": "9fuXeGHHIvgY"
      },
      "outputs": [],
      "source": [
        "train, val = series.split_after(pd.Timestamp('20200910'))\n",
        "scaler = Scaler()\n",
        "train_transformed = scaler.fit_transform(train)\n",
        "val_transformed = scaler.transform(val)\n",
        "series_transformed = scaler.transform(series)"
      ]
    },
    {
      "cell_type": "code",
      "source": [
        "covariates = TimeSeries.from_dataframe(df,'date',['min_temperature' ,'max_temperature' ,'solar_exposure','rainfall' ,'school_day','holiday'],fill_missing_dates=True)"
      ],
      "metadata": {
        "id": "KuvrUd9VKU58"
      },
      "execution_count": 44,
      "outputs": []
    },
    {
      "cell_type": "code",
      "source": [
        "covariates.plot()"
      ],
      "metadata": {
        "colab": {
          "base_uri": "https://localhost:8080/",
          "height": 288
        },
        "id": "pjgoOM3JKzw-",
        "outputId": "9e358a1c-6446-47a8-aceb-6b873ec6c4e1"
      },
      "execution_count": 45,
      "outputs": [
        {
          "output_type": "display_data",
          "data": {
            "image/png": "[encoded data removed]",
            "text/plain": [
              "<Figure size 432x288 with 1 Axes>"
            ]
          },
          "metadata": {
            "needs_background": "light"
          }
        }
      ]
    },
    {
      "cell_type": "code",
      "source": [
        "len(covariates)"
      ],
      "metadata": {
        "colab": {
          "base_uri": "https://localhost:8080/"
        },
        "id": "KycRqksLK7og",
        "outputId": "bd4d3e27-1492-4f44-8d0e-c0615d045515"
      },
      "execution_count": 46,
      "outputs": [
        {
          "output_type": "execute_result",
          "data": {
            "text/plain": [
              "2106"
            ]
          },
          "metadata": {},
          "execution_count": 46
        }
      ]
    },
    {
      "cell_type": "code",
      "source": [
        "# create month and year covariate series\n",
        "year_series = datetime_attribute_timeseries(pd.date_range(start=series.start_time(), freq=series.freq_str, periods=2106),\n",
        "                                             attribute='year', one_hot=False)\n",
        "year_series = Scaler().fit_transform(year_series)\n",
        "month_series = datetime_attribute_timeseries(year_series, attribute='month', one_hot=True)\n",
        "time_covariates = year_series.stack(month_series)"
      ],
      "metadata": {
        "id": "2pIuaUSmK28L"
      },
      "execution_count": 47,
      "outputs": []
    },
    {
      "cell_type": "code",
      "source": [
        "cov = time_covariates.stack(covariates)"
      ],
      "metadata": {
        "id": "av9FwNlVK3AC"
      },
      "execution_count": 48,
      "outputs": []
    },
    {
      "cell_type": "code",
      "execution_count": 49,
      "metadata": {
        "id": "zAGa2AqSIvgb"
      },
      "outputs": [],
      "source": [
        "scaler = Scaler()\n",
        "train_cov, val_cov = cov.split_after(pd.Timestamp('20200910'))\n",
        "train_cov_transformed = scaler.fit_transform(train_cov)\n",
        "val_cov_transformed = scaler.transform(val_cov)\n",
        "covariates_transformed = scaler.transform(cov)"
      ]
    },
    {
      "cell_type": "code",
      "execution_count": 50,
      "metadata": {
        "id": "28116hBeIvgb"
      },
      "outputs": [],
      "source": [
        "model_cov = BlockRNNModel(\n",
        "    model='LSTM',\n",
        "    input_chunk_length=30,\n",
        "    output_chunk_length=20,\n",
        "    n_epochs=300,\n",
        "    random_state=0\n",
        ")"
      ]
    },
    {
      "cell_type": "code",
      "execution_count": 51,
      "metadata": {
        "id": "YG8OFIpmIvgc",
        "outputId": "bb7ed0e8-5267-4e2f-d39e-5e8e14bc4f75",
        "colab": {
          "base_uri": "https://localhost:8080/"
        }
      },
      "outputs": [
        {
          "metadata": {
            "tags": null
          },
          "name": "stderr",
          "output_type": "stream",
          "text": [
            "[2021-12-10 12:14:16,978] INFO | darts.models.forecasting.torch_forecasting_model | Train dataset contains 2031 samples.\n",
            "[2021-12-10 12:14:16,978] INFO | darts.models.forecasting.torch_forecasting_model | Train dataset contains 2031 samples.\n",
            "[2021-12-10 12:14:16,988] INFO | darts.models.forecasting.torch_forecasting_model | Time series values are 64-bits; casting model to float64.\n",
            "[2021-12-10 12:14:16,988] INFO | darts.models.forecasting.torch_forecasting_model | Time series values are 64-bits; casting model to float64.\n",
            "  0%|          | 1/300 [00:01<06:18,  1.27s/it]"
          ]
        },
        {
          "metadata": {
            "tags": null
          },
          "name": "stdout",
          "output_type": "stream",
          "text": [
            "Training loss: 0.1019\r"
          ]
        },
        {
          "metadata": {
            "tags": null
          },
          "name": "stderr",
          "output_type": "stream",
          "text": [
            "  4%|▎         | 11/300 [00:13<06:04,  1.26s/it]"
          ]
        },
        {
          "metadata": {
            "tags": null
          },
          "name": "stdout",
          "output_type": "stream",
          "text": [
            "Training loss: 0.0174\r"
          ]
        },
        {
          "metadata": {
            "tags": null
          },
          "name": "stderr",
          "output_type": "stream",
          "text": [
            "  7%|▋         | 21/300 [00:26<05:48,  1.25s/it]"
          ]
        },
        {
          "metadata": {
            "tags": null
          },
          "name": "stdout",
          "output_type": "stream",
          "text": [
            "Training loss: 0.0169\r"
          ]
        },
        {
          "metadata": {
            "tags": null
          },
          "name": "stderr",
          "output_type": "stream",
          "text": [
            " 10%|█         | 31/300 [00:38<05:34,  1.24s/it]"
          ]
        },
        {
          "metadata": {
            "tags": null
          },
          "name": "stdout",
          "output_type": "stream",
          "text": [
            "Training loss: 0.0164\r"
          ]
        },
        {
          "metadata": {
            "tags": null
          },
          "name": "stderr",
          "output_type": "stream",
          "text": [
            " 14%|█▎        | 41/300 [00:51<05:21,  1.24s/it]"
          ]
        },
        {
          "metadata": {
            "tags": null
          },
          "name": "stdout",
          "output_type": "stream",
          "text": [
            "Training loss: 0.0146\r"
          ]
        },
        {
          "metadata": {
            "tags": null
          },
          "name": "stderr",
          "output_type": "stream",
          "text": [
            " 17%|█▋        | 51/300 [01:03<05:09,  1.24s/it]"
          ]
        },
        {
          "metadata": {
            "tags": null
          },
          "name": "stdout",
          "output_type": "stream",
          "text": [
            "Training loss: 0.0112\r"
          ]
        },
        {
          "metadata": {
            "tags": null
          },
          "name": "stderr",
          "output_type": "stream",
          "text": [
            " 20%|██        | 61/300 [01:16<04:56,  1.24s/it]"
          ]
        },
        {
          "metadata": {
            "tags": null
          },
          "name": "stdout",
          "output_type": "stream",
          "text": [
            "Training loss: 0.0105\r"
          ]
        },
        {
          "metadata": {
            "tags": null
          },
          "name": "stderr",
          "output_type": "stream",
          "text": [
            " 24%|██▎       | 71/300 [01:28<04:42,  1.23s/it]"
          ]
        },
        {
          "metadata": {
            "tags": null
          },
          "name": "stdout",
          "output_type": "stream",
          "text": [
            "Training loss: 0.0097\r"
          ]
        },
        {
          "metadata": {
            "tags": null
          },
          "name": "stderr",
          "output_type": "stream",
          "text": [
            " 27%|██▋       | 81/300 [01:41<04:32,  1.24s/it]"
          ]
        },
        {
          "metadata": {
            "tags": null
          },
          "name": "stdout",
          "output_type": "stream",
          "text": [
            "Training loss: 0.0091\r"
          ]
        },
        {
          "output_type": "stream",
          "name": "stderr",
          "text": [
            " 30%|███       | 91/300 [01:53<04:18,  1.24s/it]"
          ]
        },
        {
          "output_type": "stream",
          "name": "stdout",
          "text": [
            "Training loss: 0.0085\r"
          ]
        },
        {
          "output_type": "stream",
          "name": "stderr",
          "text": [
            " 34%|███▎      | 101/300 [02:05<04:05,  1.23s/it]"
          ]
        },
        {
          "output_type": "stream",
          "name": "stdout",
          "text": [
            "Training loss: 0.0080\r"
          ]
        },
        {
          "output_type": "stream",
          "name": "stderr",
          "text": [
            " 37%|███▋      | 111/300 [02:18<03:56,  1.25s/it]"
          ]
        },
        {
          "output_type": "stream",
          "name": "stdout",
          "text": [
            "Training loss: 0.0076\r"
          ]
        },
        {
          "output_type": "stream",
          "name": "stderr",
          "text": [
            " 40%|████      | 121/300 [02:30<03:42,  1.25s/it]"
          ]
        },
        {
          "output_type": "stream",
          "name": "stdout",
          "text": [
            "Training loss: 0.0073\r"
          ]
        },
        {
          "output_type": "stream",
          "name": "stderr",
          "text": [
            " 44%|████▎     | 131/300 [02:43<03:28,  1.23s/it]"
          ]
        },
        {
          "output_type": "stream",
          "name": "stdout",
          "text": [
            "Training loss: 0.0071\r"
          ]
        },
        {
          "output_type": "stream",
          "name": "stderr",
          "text": [
            " 47%|████▋     | 141/300 [02:55<03:19,  1.26s/it]"
          ]
        },
        {
          "output_type": "stream",
          "name": "stdout",
          "text": [
            "Training loss: 0.0069\r"
          ]
        },
        {
          "output_type": "stream",
          "name": "stderr",
          "text": [
            " 50%|█████     | 151/300 [03:08<03:06,  1.25s/it]"
          ]
        },
        {
          "output_type": "stream",
          "name": "stdout",
          "text": [
            "Training loss: 0.0066\r"
          ]
        },
        {
          "output_type": "stream",
          "name": "stderr",
          "text": [
            " 54%|█████▎    | 161/300 [03:20<02:52,  1.24s/it]"
          ]
        },
        {
          "output_type": "stream",
          "name": "stdout",
          "text": [
            "Training loss: 0.0064\r"
          ]
        },
        {
          "output_type": "stream",
          "name": "stderr",
          "text": [
            " 57%|█████▋    | 171/300 [03:33<02:40,  1.25s/it]"
          ]
        },
        {
          "output_type": "stream",
          "name": "stdout",
          "text": [
            "Training loss: 0.0062\r"
          ]
        },
        {
          "output_type": "stream",
          "name": "stderr",
          "text": [
            " 60%|██████    | 181/300 [03:45<02:28,  1.25s/it]"
          ]
        },
        {
          "output_type": "stream",
          "name": "stdout",
          "text": [
            "Training loss: 0.0060\r"
          ]
        },
        {
          "output_type": "stream",
          "name": "stderr",
          "text": [
            " 64%|██████▎   | 191/300 [03:58<02:16,  1.25s/it]"
          ]
        },
        {
          "output_type": "stream",
          "name": "stdout",
          "text": [
            "Training loss: 0.0059\r"
          ]
        },
        {
          "output_type": "stream",
          "name": "stderr",
          "text": [
            " 67%|██████▋   | 201/300 [04:10<02:02,  1.23s/it]"
          ]
        },
        {
          "output_type": "stream",
          "name": "stdout",
          "text": [
            "Training loss: 0.0057\r"
          ]
        },
        {
          "output_type": "stream",
          "name": "stderr",
          "text": [
            " 70%|███████   | 211/300 [04:22<01:49,  1.23s/it]"
          ]
        },
        {
          "output_type": "stream",
          "name": "stdout",
          "text": [
            "Training loss: 0.0057\r"
          ]
        },
        {
          "output_type": "stream",
          "name": "stderr",
          "text": [
            " 74%|███████▎  | 221/300 [04:35<01:36,  1.22s/it]"
          ]
        },
        {
          "output_type": "stream",
          "name": "stdout",
          "text": [
            "Training loss: 0.0055\r"
          ]
        },
        {
          "output_type": "stream",
          "name": "stderr",
          "text": [
            " 77%|███████▋  | 231/300 [04:47<01:25,  1.24s/it]"
          ]
        },
        {
          "output_type": "stream",
          "name": "stdout",
          "text": [
            "Training loss: 0.0055\r"
          ]
        },
        {
          "output_type": "stream",
          "name": "stderr",
          "text": [
            " 80%|████████  | 241/300 [04:59<01:13,  1.25s/it]"
          ]
        },
        {
          "output_type": "stream",
          "name": "stdout",
          "text": [
            "Training loss: 0.0052\r"
          ]
        },
        {
          "output_type": "stream",
          "name": "stderr",
          "text": [
            " 84%|████████▎ | 251/300 [05:12<01:00,  1.23s/it]"
          ]
        },
        {
          "output_type": "stream",
          "name": "stdout",
          "text": [
            "Training loss: 0.0051\r"
          ]
        },
        {
          "output_type": "stream",
          "name": "stderr",
          "text": [
            " 87%|████████▋ | 261/300 [05:24<00:48,  1.24s/it]"
          ]
        },
        {
          "output_type": "stream",
          "name": "stdout",
          "text": [
            "Training loss: 0.0050\r"
          ]
        },
        {
          "output_type": "stream",
          "name": "stderr",
          "text": [
            " 90%|█████████ | 271/300 [05:36<00:35,  1.23s/it]"
          ]
        },
        {
          "output_type": "stream",
          "name": "stdout",
          "text": [
            "Training loss: 0.0049\r"
          ]
        },
        {
          "output_type": "stream",
          "name": "stderr",
          "text": [
            " 94%|█████████▎| 281/300 [05:49<00:23,  1.26s/it]"
          ]
        },
        {
          "output_type": "stream",
          "name": "stdout",
          "text": [
            "Training loss: 0.0048\r"
          ]
        },
        {
          "output_type": "stream",
          "name": "stderr",
          "text": [
            " 97%|█████████▋| 291/300 [06:01<00:11,  1.24s/it]"
          ]
        },
        {
          "output_type": "stream",
          "name": "stdout",
          "text": [
            "Training loss: 0.0047\r"
          ]
        },
        {
          "output_type": "stream",
          "name": "stderr",
          "text": [
            "100%|██████████| 300/300 [06:12<00:00,  1.24s/it]\n"
          ]
        }
      ],
      "source": [
        "model_cov.fit(series=train_transformed,\n",
        "              past_covariates=train_cov_transformed,\n",
        "              verbose=True)"
      ]
    },
    {
      "cell_type": "code",
      "execution_count": 53,
      "metadata": {
        "id": "lxjbUL5NIvge"
      },
      "outputs": [],
      "source": [
        "predicted = model_cov.predict(n=20)"
      ]
    },
    {
      "cell_type": "code",
      "source": [
        "series_transformed.plot(label='actual')\n",
        "predicted.plot(label='forecast')\n",
        "plt.title('MAPE: {:.2f}%'.format(mape(predicted, val_transformed[:20])))\n",
        "plt.legend()\n",
        "plt.show()"
      ],
      "metadata": {
        "colab": {
          "base_uri": "https://localhost:8080/",
          "height": 304
        },
        "id": "ilnnIdbLNd6h",
        "outputId": "a67fd6c2-4ec1-4054-b660-ba27329cb6de"
      },
      "execution_count": 54,
      "outputs": [
        {
          "output_type": "display_data",
          "data": {
            "image/png": "[encoded data removed]",
            "text/plain": [
              "<Figure size 432x288 with 1 Axes>"
            ]
          },
          "metadata": {
            "needs_background": "light"
          }
        }
      ]
    },
    {
      "cell_type": "code",
      "source": [
        ""
      ],
      "metadata": {
        "id": "Pg3TFGu4Nd9d"
      },
      "execution_count": null,
      "outputs": []
    },
    {
      "cell_type": "code",
      "source": [
        ""
      ],
      "metadata": {
        "id": "iY8EaxBmNeAL"
      },
      "execution_count": null,
      "outputs": []
    },
    {
      "cell_type": "code",
      "source": [
        ""
      ],
      "metadata": {
        "id": "XTOzzLI5NeC-"
      },
      "execution_count": null,
      "outputs": []
    }
  ],
  "metadata": {
    "kernelspec": {
      "display_name": "Python 3",
      "language": "python",
      "name": "python3"
    },
    "language_info": {
      "codemirror_mode": {
        "name": "ipython",
        "version": 3
      },
      "file_extension": ".py",
      "mimetype": "text/x-python",
      "name": "python",
      "nbconvert_exporter": "python",
      "pygments_lexer": "ipython3",
      "version": "3.8.10"
    },
    "colab": {
      "name": "Electricity_Data_Past.ipynb",
      "provenance": []
    }
  },
  "nbformat": 4,
  "nbformat_minor": 0
}