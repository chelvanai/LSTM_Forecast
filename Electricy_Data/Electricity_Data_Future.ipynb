{
  "cells": [
    {
      "cell_type": "code",
      "source": [
        "!pip install -q darts"
      ],
      "metadata": {
        "id": "TwHaAsADIwsz",
        "outputId": "e98b2732-1c5d-4b60-ccd1-10ebcb121e73",
        "colab": {
          "base_uri": "https://localhost:8080/"
        }
      },
      "execution_count": 1,
      "outputs": [
        {
          "output_type": "stream",
          "name": "stdout",
          "text": [
            "\u001b[K     |████████████████████████████████| 290 kB 8.2 MB/s \n",
            "\u001b[K     |████████████████████████████████| 9.8 MB 39.3 MB/s \n",
            "\u001b[K     |████████████████████████████████| 1.4 MB 32.3 MB/s \n",
            "\u001b[K     |████████████████████████████████| 155 kB 81.8 MB/s \n",
            "\u001b[K     |████████████████████████████████| 791 kB 67.1 MB/s \n",
            "\u001b[K     |████████████████████████████████| 11.2 MB 15.1 MB/s \n",
            "\u001b[K     |████████████████████████████████| 177 kB 31.0 MB/s \n",
            "\u001b[K     |████████████████████████████████| 65 kB 5.5 MB/s \n",
            "\u001b[K     |████████████████████████████████| 374 kB 39.1 MB/s \n",
            "\u001b[K     |████████████████████████████████| 884 kB 72.4 MB/s \n",
            "\u001b[K     |████████████████████████████████| 49 kB 6.8 MB/s \n",
            "\u001b[K     |████████████████████████████████| 216 kB 71.6 MB/s \n",
            "\u001b[?25h  Building wheel for filterpy (setup.py) ... \u001b[?25l\u001b[?25hdone\n",
            "  Building wheel for prophet (setup.py) ... \u001b[?25l\u001b[?25hdone\n",
            "\u001b[31mERROR: pip's dependency resolver does not currently take into account all the packages that are installed. This behaviour is the source of the following dependency conflicts.\n",
            "jupyter-console 5.2.0 requires prompt-toolkit<2.0.0,>=1.0.0, but you have prompt-toolkit 3.0.24 which is incompatible.\n",
            "google-colab 1.0.0 requires ipython~=5.5.0, but you have ipython 7.30.1 which is incompatible.\n",
            "fbprophet 0.7.1 requires cmdstanpy==0.9.5, but you have cmdstanpy 0.9.68 which is incompatible.\n",
            "albumentations 0.1.12 requires imgaug<0.2.7,>=0.2.5, but you have imgaug 0.2.9 which is incompatible.\u001b[0m\n"
          ]
        }
      ]
    },
    {
      "cell_type": "code",
      "source": [
        "!pip install -q matplotlib==3.1.3"
      ],
      "metadata": {
        "id": "nS8uSxvoIwij",
        "colab": {
          "base_uri": "https://localhost:8080/"
        },
        "outputId": "828c23fb-a53a-44fa-fa8f-2c8db6b7e030"
      },
      "execution_count": 2,
      "outputs": [
        {
          "output_type": "stream",
          "name": "stdout",
          "text": [
            "\u001b[K     |████████████████████████████████| 13.1 MB 6.5 MB/s \n",
            "\u001b[31mERROR: pip's dependency resolver does not currently take into account all the packages that are installed. This behaviour is the source of the following dependency conflicts.\n",
            "fbprophet 0.7.1 requires cmdstanpy==0.9.5, but you have cmdstanpy 0.9.68 which is incompatible.\n",
            "darts 0.14.0 requires matplotlib>=3.3.0, but you have matplotlib 3.1.3 which is incompatible.\n",
            "albumentations 0.1.12 requires imgaug<0.2.7,>=0.2.5, but you have imgaug 0.2.9 which is incompatible.\u001b[0m\n",
            "\u001b[?25h"
          ]
        }
      ]
    },
    {
      "cell_type": "code",
      "execution_count": 3,
      "metadata": {
        "id": "FYotKkIFIvf7"
      },
      "outputs": [],
      "source": [
        "import numpy as np\n",
        "import pandas as pd\n",
        "import torch\n",
        "import matplotlib.pyplot as plt\n",
        "\n",
        "from darts import TimeSeries\n",
        "from darts.utils.timeseries_generation import datetime_attribute_timeseries\n",
        "from darts.models import RNNModel, TCNModel, TransformerModel, NBEATSModel, BlockRNNModel\n",
        "from darts.metrics import mape, smape\n",
        "from darts.dataprocessing.transformers import Scaler\n",
        "import sklearn.preprocessing as preprocessing"
      ]
    },
    {
      "cell_type": "code",
      "execution_count": 43,
      "metadata": {
        "id": "4nLcKrfVIvf-"
      },
      "outputs": [],
      "source": [
        "df = pd.read_csv('Electricity_demand.csv')"
      ]
    },
    {
      "cell_type": "code",
      "execution_count": 44,
      "metadata": {
        "id": "OTgB4Do6Ivf_",
        "outputId": "5a6a1c49-b615-432d-e67d-700d4771be27",
        "colab": {
          "base_uri": "https://localhost:8080/",
          "height": 206
        }
      },
      "outputs": [
        {
          "output_type": "execute_result",
          "data": {
            "text/html": [
              "<div>\n",
              "<style scoped>\n",
              "    .dataframe tbody tr th:only-of-type {\n",
              "        vertical-align: middle;\n",
              "    }\n",
              "\n",
              "    .dataframe tbody tr th {\n",
              "        vertical-align: top;\n",
              "    }\n",
              "\n",
              "    .dataframe thead th {\n",
              "        text-align: right;\n",
              "    }\n",
              "</style>\n",
              "<table border=\"1\" class=\"dataframe\">\n",
              "  <thead>\n",
              "    <tr style=\"text-align: right;\">\n",
              "      <th></th>\n",
              "      <th>date</th>\n",
              "      <th>demand</th>\n",
              "      <th>RRP</th>\n",
              "      <th>demand_pos_RRP</th>\n",
              "      <th>RRP_positive</th>\n",
              "      <th>demand_neg_RRP</th>\n",
              "      <th>RRP_negative</th>\n",
              "      <th>frac_at_neg_RRP</th>\n",
              "      <th>min_temperature</th>\n",
              "      <th>max_temperature</th>\n",
              "      <th>solar_exposure</th>\n",
              "      <th>rainfall</th>\n",
              "      <th>school_day</th>\n",
              "      <th>holiday</th>\n",
              "    </tr>\n",
              "  </thead>\n",
              "  <tbody>\n",
              "    <tr>\n",
              "      <th>0</th>\n",
              "      <td>2015-01-01</td>\n",
              "      <td>99635.030</td>\n",
              "      <td>25.633696</td>\n",
              "      <td>97319.240</td>\n",
              "      <td>26.415953</td>\n",
              "      <td>2315.790</td>\n",
              "      <td>-7.240000</td>\n",
              "      <td>0.020833</td>\n",
              "      <td>13.3</td>\n",
              "      <td>26.9</td>\n",
              "      <td>23.6</td>\n",
              "      <td>0.0</td>\n",
              "      <td>N</td>\n",
              "      <td>Y</td>\n",
              "    </tr>\n",
              "    <tr>\n",
              "      <th>1</th>\n",
              "      <td>2015-01-02</td>\n",
              "      <td>129606.010</td>\n",
              "      <td>33.138988</td>\n",
              "      <td>121082.015</td>\n",
              "      <td>38.837661</td>\n",
              "      <td>8523.995</td>\n",
              "      <td>-47.809777</td>\n",
              "      <td>0.062500</td>\n",
              "      <td>15.4</td>\n",
              "      <td>38.8</td>\n",
              "      <td>26.8</td>\n",
              "      <td>0.0</td>\n",
              "      <td>N</td>\n",
              "      <td>N</td>\n",
              "    </tr>\n",
              "    <tr>\n",
              "      <th>2</th>\n",
              "      <td>2015-01-03</td>\n",
              "      <td>142300.540</td>\n",
              "      <td>34.564855</td>\n",
              "      <td>142300.540</td>\n",
              "      <td>34.564855</td>\n",
              "      <td>0.000</td>\n",
              "      <td>0.000000</td>\n",
              "      <td>0.000000</td>\n",
              "      <td>20.0</td>\n",
              "      <td>38.2</td>\n",
              "      <td>26.5</td>\n",
              "      <td>0.0</td>\n",
              "      <td>N</td>\n",
              "      <td>N</td>\n",
              "    </tr>\n",
              "    <tr>\n",
              "      <th>3</th>\n",
              "      <td>2015-01-04</td>\n",
              "      <td>104330.715</td>\n",
              "      <td>25.005560</td>\n",
              "      <td>104330.715</td>\n",
              "      <td>25.005560</td>\n",
              "      <td>0.000</td>\n",
              "      <td>0.000000</td>\n",
              "      <td>0.000000</td>\n",
              "      <td>16.3</td>\n",
              "      <td>21.4</td>\n",
              "      <td>25.2</td>\n",
              "      <td>4.2</td>\n",
              "      <td>N</td>\n",
              "      <td>N</td>\n",
              "    </tr>\n",
              "    <tr>\n",
              "      <th>4</th>\n",
              "      <td>2015-01-05</td>\n",
              "      <td>118132.200</td>\n",
              "      <td>26.724176</td>\n",
              "      <td>118132.200</td>\n",
              "      <td>26.724176</td>\n",
              "      <td>0.000</td>\n",
              "      <td>0.000000</td>\n",
              "      <td>0.000000</td>\n",
              "      <td>15.0</td>\n",
              "      <td>22.0</td>\n",
              "      <td>30.7</td>\n",
              "      <td>0.0</td>\n",
              "      <td>N</td>\n",
              "      <td>N</td>\n",
              "    </tr>\n",
              "  </tbody>\n",
              "</table>\n",
              "</div>"
            ],
            "text/plain": [
              "         date      demand        RRP  ...  rainfall  school_day  holiday\n",
              "0  2015-01-01   99635.030  25.633696  ...       0.0           N        Y\n",
              "1  2015-01-02  129606.010  33.138988  ...       0.0           N        N\n",
              "2  2015-01-03  142300.540  34.564855  ...       0.0           N        N\n",
              "3  2015-01-04  104330.715  25.005560  ...       4.2           N        N\n",
              "4  2015-01-05  118132.200  26.724176  ...       0.0           N        N\n",
              "\n",
              "[5 rows x 14 columns]"
            ]
          },
          "metadata": {},
          "execution_count": 44
        }
      ],
      "source": [
        "df.head(5)"
      ]
    },
    {
      "cell_type": "code",
      "execution_count": 45,
      "metadata": {
        "id": "CfDt3Al1IvgA",
        "outputId": "12019a22-1f3e-475d-c30f-eb619410f36a",
        "colab": {
          "base_uri": "https://localhost:8080/"
        }
      },
      "outputs": [
        {
          "output_type": "execute_result",
          "data": {
            "text/plain": [
              "(2106, 14)"
            ]
          },
          "metadata": {},
          "execution_count": 45
        }
      ],
      "source": [
        "df.shape"
      ]
    },
    {
      "cell_type": "code",
      "execution_count": 46,
      "metadata": {
        "id": "5MvvB7D2IvgD",
        "outputId": "7ccf7e42-bcdb-47b8-ed43-b8eff582742f",
        "colab": {
          "base_uri": "https://localhost:8080/"
        }
      },
      "outputs": [
        {
          "output_type": "execute_result",
          "data": {
            "text/plain": [
              "Index(['date', 'demand', 'RRP', 'demand_pos_RRP', 'RRP_positive',\n",
              "       'demand_neg_RRP', 'RRP_negative', 'frac_at_neg_RRP', 'min_temperature',\n",
              "       'max_temperature', 'solar_exposure', 'rainfall', 'school_day',\n",
              "       'holiday'],\n",
              "      dtype='object')"
            ]
          },
          "metadata": {},
          "execution_count": 46
        }
      ],
      "source": [
        "df.columns"
      ]
    },
    {
      "cell_type": "code",
      "execution_count": 47,
      "metadata": {
        "id": "MG6L3gkBIvgG",
        "outputId": "f7895aa1-29f9-474d-9fcf-97cef04cb1c3",
        "colab": {
          "base_uri": "https://localhost:8080/"
        }
      },
      "outputs": [
        {
          "output_type": "execute_result",
          "data": {
            "text/plain": [
              "date                object\n",
              "demand             float64\n",
              "RRP                float64\n",
              "demand_pos_RRP     float64\n",
              "RRP_positive       float64\n",
              "demand_neg_RRP     float64\n",
              "RRP_negative       float64\n",
              "frac_at_neg_RRP    float64\n",
              "min_temperature    float64\n",
              "max_temperature    float64\n",
              "solar_exposure     float64\n",
              "rainfall           float64\n",
              "school_day          object\n",
              "holiday             object\n",
              "dtype: object"
            ]
          },
          "metadata": {},
          "execution_count": 47
        }
      ],
      "source": [
        "df.dtypes"
      ]
    },
    {
      "cell_type": "code",
      "execution_count": 48,
      "metadata": {
        "id": "w9vQUkpaIvgH"
      },
      "outputs": [],
      "source": [
        "le = preprocessing.LabelEncoder()\n",
        "df['school_day'] = le.fit_transform(df.school_day.values)\n",
        "df['holiday'] = le.fit_transform(df.holiday.values)"
      ]
    },
    {
      "cell_type": "code",
      "execution_count": 50,
      "metadata": {
        "id": "sV2pNZVnIvgJ"
      },
      "outputs": [],
      "source": [
        "df['date'] = df['date'].apply(pd.to_datetime)"
      ]
    },
    {
      "cell_type": "code",
      "execution_count": 51,
      "metadata": {
        "id": "dJRHHSoFIvgO"
      },
      "outputs": [],
      "source": [
        "torch.manual_seed(1); np.random.seed(1)  # for reproducibility"
      ]
    },
    {
      "cell_type": "code",
      "execution_count": 52,
      "metadata": {
        "id": "7cwOaq7lIvgP",
        "outputId": "baa41087-5a43-4a49-8396-30c0c8ace05e",
        "colab": {
          "base_uri": "https://localhost:8080/"
        }
      },
      "outputs": [
        {
          "output_type": "execute_result",
          "data": {
            "text/plain": [
              "date               0\n",
              "demand             0\n",
              "RRP                0\n",
              "demand_pos_RRP     0\n",
              "RRP_positive       0\n",
              "demand_neg_RRP     0\n",
              "RRP_negative       0\n",
              "frac_at_neg_RRP    0\n",
              "min_temperature    0\n",
              "max_temperature    0\n",
              "solar_exposure     1\n",
              "rainfall           3\n",
              "school_day         0\n",
              "holiday            0\n",
              "dtype: int64"
            ]
          },
          "metadata": {},
          "execution_count": 52
        }
      ],
      "source": [
        "df.isna().sum()"
      ]
    },
    {
      "cell_type": "code",
      "execution_count": 53,
      "metadata": {
        "id": "Xfpjgot4IvgR"
      },
      "outputs": [],
      "source": [
        "df = df.fillna(0)"
      ]
    },
    {
      "cell_type": "code",
      "execution_count": 54,
      "metadata": {
        "id": "eJR3_OH-IvgR",
        "outputId": "f4325285-013a-403e-ac6f-4405d4a36abd",
        "colab": {
          "base_uri": "https://localhost:8080/",
          "height": 206
        }
      },
      "outputs": [
        {
          "output_type": "execute_result",
          "data": {
            "text/html": [
              "<div>\n",
              "<style scoped>\n",
              "    .dataframe tbody tr th:only-of-type {\n",
              "        vertical-align: middle;\n",
              "    }\n",
              "\n",
              "    .dataframe tbody tr th {\n",
              "        vertical-align: top;\n",
              "    }\n",
              "\n",
              "    .dataframe thead th {\n",
              "        text-align: right;\n",
              "    }\n",
              "</style>\n",
              "<table border=\"1\" class=\"dataframe\">\n",
              "  <thead>\n",
              "    <tr style=\"text-align: right;\">\n",
              "      <th></th>\n",
              "      <th>date</th>\n",
              "      <th>demand</th>\n",
              "      <th>RRP</th>\n",
              "      <th>demand_pos_RRP</th>\n",
              "      <th>RRP_positive</th>\n",
              "      <th>demand_neg_RRP</th>\n",
              "      <th>RRP_negative</th>\n",
              "      <th>frac_at_neg_RRP</th>\n",
              "      <th>min_temperature</th>\n",
              "      <th>max_temperature</th>\n",
              "      <th>solar_exposure</th>\n",
              "      <th>rainfall</th>\n",
              "      <th>school_day</th>\n",
              "      <th>holiday</th>\n",
              "    </tr>\n",
              "  </thead>\n",
              "  <tbody>\n",
              "    <tr>\n",
              "      <th>0</th>\n",
              "      <td>2015-01-01</td>\n",
              "      <td>99635.030</td>\n",
              "      <td>25.633696</td>\n",
              "      <td>97319.240</td>\n",
              "      <td>26.415953</td>\n",
              "      <td>2315.790</td>\n",
              "      <td>-7.240000</td>\n",
              "      <td>0.020833</td>\n",
              "      <td>13.3</td>\n",
              "      <td>26.9</td>\n",
              "      <td>23.6</td>\n",
              "      <td>0.0</td>\n",
              "      <td>0</td>\n",
              "      <td>1</td>\n",
              "    </tr>\n",
              "    <tr>\n",
              "      <th>1</th>\n",
              "      <td>2015-01-02</td>\n",
              "      <td>129606.010</td>\n",
              "      <td>33.138988</td>\n",
              "      <td>121082.015</td>\n",
              "      <td>38.837661</td>\n",
              "      <td>8523.995</td>\n",
              "      <td>-47.809777</td>\n",
              "      <td>0.062500</td>\n",
              "      <td>15.4</td>\n",
              "      <td>38.8</td>\n",
              "      <td>26.8</td>\n",
              "      <td>0.0</td>\n",
              "      <td>0</td>\n",
              "      <td>0</td>\n",
              "    </tr>\n",
              "    <tr>\n",
              "      <th>2</th>\n",
              "      <td>2015-01-03</td>\n",
              "      <td>142300.540</td>\n",
              "      <td>34.564855</td>\n",
              "      <td>142300.540</td>\n",
              "      <td>34.564855</td>\n",
              "      <td>0.000</td>\n",
              "      <td>0.000000</td>\n",
              "      <td>0.000000</td>\n",
              "      <td>20.0</td>\n",
              "      <td>38.2</td>\n",
              "      <td>26.5</td>\n",
              "      <td>0.0</td>\n",
              "      <td>0</td>\n",
              "      <td>0</td>\n",
              "    </tr>\n",
              "    <tr>\n",
              "      <th>3</th>\n",
              "      <td>2015-01-04</td>\n",
              "      <td>104330.715</td>\n",
              "      <td>25.005560</td>\n",
              "      <td>104330.715</td>\n",
              "      <td>25.005560</td>\n",
              "      <td>0.000</td>\n",
              "      <td>0.000000</td>\n",
              "      <td>0.000000</td>\n",
              "      <td>16.3</td>\n",
              "      <td>21.4</td>\n",
              "      <td>25.2</td>\n",
              "      <td>4.2</td>\n",
              "      <td>0</td>\n",
              "      <td>0</td>\n",
              "    </tr>\n",
              "    <tr>\n",
              "      <th>4</th>\n",
              "      <td>2015-01-05</td>\n",
              "      <td>118132.200</td>\n",
              "      <td>26.724176</td>\n",
              "      <td>118132.200</td>\n",
              "      <td>26.724176</td>\n",
              "      <td>0.000</td>\n",
              "      <td>0.000000</td>\n",
              "      <td>0.000000</td>\n",
              "      <td>15.0</td>\n",
              "      <td>22.0</td>\n",
              "      <td>30.7</td>\n",
              "      <td>0.0</td>\n",
              "      <td>0</td>\n",
              "      <td>0</td>\n",
              "    </tr>\n",
              "  </tbody>\n",
              "</table>\n",
              "</div>"
            ],
            "text/plain": [
              "        date      demand        RRP  ...  rainfall  school_day  holiday\n",
              "0 2015-01-01   99635.030  25.633696  ...       0.0           0        1\n",
              "1 2015-01-02  129606.010  33.138988  ...       0.0           0        0\n",
              "2 2015-01-03  142300.540  34.564855  ...       0.0           0        0\n",
              "3 2015-01-04  104330.715  25.005560  ...       4.2           0        0\n",
              "4 2015-01-05  118132.200  26.724176  ...       0.0           0        0\n",
              "\n",
              "[5 rows x 14 columns]"
            ]
          },
          "metadata": {},
          "execution_count": 54
        }
      ],
      "source": [
        "df.head(5)"
      ]
    },
    {
      "cell_type": "code",
      "execution_count": 55,
      "metadata": {
        "id": "FEjpLwv7IvgS"
      },
      "outputs": [],
      "source": [
        "series = TimeSeries.from_dataframe(df, 'date', 'demand',fill_missing_dates=True)"
      ]
    },
    {
      "cell_type": "code",
      "execution_count": 56,
      "metadata": {
        "id": "no9Y3MuTIvgW",
        "outputId": "7c7caf53-1f46-49ad-ba7c-c21d73b84bbd",
        "colab": {
          "base_uri": "https://localhost:8080/",
          "height": 288
        }
      },
      "outputs": [
        {
          "output_type": "display_data",
          "data": {
            "image/png": "[encoded data removed]",
            "text/plain": [
              "<Figure size 432x288 with 1 Axes>"
            ]
          },
          "metadata": {
            "needs_background": "light"
          }
        }
      ],
      "source": [
        "series.plot()\n",
        "plt.show()"
      ]
    },
    {
      "cell_type": "code",
      "execution_count": 57,
      "metadata": {
        "id": "9fuXeGHHIvgY"
      },
      "outputs": [],
      "source": [
        "train, val = series.split_after(pd.Timestamp('20200101'))\n",
        "scaler = Scaler()\n",
        "train_transformed = scaler.fit_transform(train)\n",
        "val_transformed = scaler.transform(val)\n",
        "series_transformed = scaler.transform(series)"
      ]
    },
    {
      "cell_type": "code",
      "source": [
        "covariates = TimeSeries.from_dataframe(df,'date',['min_temperature' ,'max_temperature' ,'solar_exposure','rainfall' ,'school_day','holiday'],fill_missing_dates=True)"
      ],
      "metadata": {
        "id": "KuvrUd9VKU58"
      },
      "execution_count": 58,
      "outputs": []
    },
    {
      "cell_type": "code",
      "source": [
        "covariates.plot()"
      ],
      "metadata": {
        "colab": {
          "base_uri": "https://localhost:8080/",
          "height": 288
        },
        "id": "pjgoOM3JKzw-",
        "outputId": "1027954d-6d1d-43c1-f140-115b4be0f6b3"
      },
      "execution_count": 62,
      "outputs": [
        {
          "output_type": "display_data",
          "data": {
            "image/png": "[encoded data removed]",
            "text/plain": [
              "<Figure size 432x288 with 1 Axes>"
            ]
          },
          "metadata": {
            "needs_background": "light"
          }
        }
      ]
    },
    {
      "cell_type": "code",
      "source": [
        "len(covariates)"
      ],
      "metadata": {
        "colab": {
          "base_uri": "https://localhost:8080/"
        },
        "id": "KycRqksLK7og",
        "outputId": "704f7b65-3c6a-4f15-cb44-df1e5628dc35"
      },
      "execution_count": 63,
      "outputs": [
        {
          "output_type": "execute_result",
          "data": {
            "text/plain": [
              "2106"
            ]
          },
          "metadata": {},
          "execution_count": 63
        }
      ]
    },
    {
      "cell_type": "code",
      "source": [
        "# create month and year covariate series\n",
        "year_series = datetime_attribute_timeseries(pd.date_range(start=series.start_time(), freq=series.freq_str, periods=2106),\n",
        "                                             attribute='year', one_hot=False)\n",
        "year_series = Scaler().fit_transform(year_series)\n",
        "month_series = datetime_attribute_timeseries(year_series, attribute='month', one_hot=True)\n",
        "time_covariates = year_series.stack(month_series)"
      ],
      "metadata": {
        "id": "2pIuaUSmK28L"
      },
      "execution_count": 64,
      "outputs": []
    },
    {
      "cell_type": "code",
      "source": [
        "cov = time_covariates.stack(covariates)"
      ],
      "metadata": {
        "id": "av9FwNlVK3AC"
      },
      "execution_count": 65,
      "outputs": []
    },
    {
      "cell_type": "code",
      "execution_count": 66,
      "metadata": {
        "id": "zAGa2AqSIvgb"
      },
      "outputs": [],
      "source": [
        "scaler = Scaler()\n",
        "train_cov, val_cov = cov.split_after(pd.Timestamp('20200101'))\n",
        "train_cov_transformed = scaler.fit_transform(train_cov)\n",
        "val_cov_transformed = scaler.transform(val_cov)\n",
        "covariates_transformed = scaler.transform(cov)"
      ]
    },
    {
      "cell_type": "code",
      "execution_count": 67,
      "metadata": {
        "id": "28116hBeIvgb"
      },
      "outputs": [],
      "source": [
        "my_model = RNNModel(\n",
        "    model='LSTM',\n",
        "    hidden_dim=20,\n",
        "    dropout=0,\n",
        "    batch_size=8,\n",
        "    n_epochs=300,\n",
        "    optimizer_kwargs={'lr': 1e-3},\n",
        "    model_name='hdd',\n",
        "    log_tensorboard=True,\n",
        "    random_state=42,\n",
        "    training_length=20,\n",
        "    input_chunk_length=10,\n",
        "    force_reset=True\n",
        ")"
      ]
    },
    {
      "cell_type": "code",
      "execution_count": 71,
      "metadata": {
        "id": "YG8OFIpmIvgc",
        "outputId": "bcff1534-b102-4225-da8f-c423366f7f4f",
        "colab": {
          "base_uri": "https://localhost:8080/"
        }
      },
      "outputs": [
        {
          "output_type": "stream",
          "name": "stderr",
          "text": [
            "[2021-12-10 11:49:33,948] INFO | darts.models.forecasting.torch_forecasting_model | Train dataset contains 1807 samples.\n",
            "[2021-12-10 11:49:33,948] INFO | darts.models.forecasting.torch_forecasting_model | Train dataset contains 1807 samples.\n",
            "  2%|▏         | 6/300 [00:10<08:28,  1.73s/it]"
          ]
        },
        {
          "output_type": "stream",
          "name": "stdout",
          "text": [
            "Training loss: 0.0048\r"
          ]
        },
        {
          "output_type": "stream",
          "name": "stderr",
          "text": [
            "  5%|▌         | 16/300 [00:27<08:08,  1.72s/it]"
          ]
        },
        {
          "output_type": "stream",
          "name": "stdout",
          "text": [
            "Training loss: 0.0034\r"
          ]
        },
        {
          "output_type": "stream",
          "name": "stderr",
          "text": [
            "  9%|▊         | 26/300 [00:44<07:51,  1.72s/it]"
          ]
        },
        {
          "output_type": "stream",
          "name": "stdout",
          "text": [
            "Training loss: 0.0028\r"
          ]
        },
        {
          "output_type": "stream",
          "name": "stderr",
          "text": [
            " 12%|█▏        | 36/300 [01:02<07:34,  1.72s/it]"
          ]
        },
        {
          "output_type": "stream",
          "name": "stdout",
          "text": [
            "Training loss: 0.0026\r"
          ]
        },
        {
          "output_type": "stream",
          "name": "stderr",
          "text": [
            " 15%|█▌        | 46/300 [01:19<07:16,  1.72s/it]"
          ]
        },
        {
          "output_type": "stream",
          "name": "stdout",
          "text": [
            "Training loss: 0.0024\r"
          ]
        },
        {
          "output_type": "stream",
          "name": "stderr",
          "text": [
            " 19%|█▊        | 56/300 [01:36<06:59,  1.72s/it]"
          ]
        },
        {
          "output_type": "stream",
          "name": "stdout",
          "text": [
            "Training loss: 0.0022\r"
          ]
        },
        {
          "output_type": "stream",
          "name": "stderr",
          "text": [
            " 22%|██▏       | 66/300 [01:53<06:41,  1.72s/it]"
          ]
        },
        {
          "output_type": "stream",
          "name": "stdout",
          "text": [
            "Training loss: 0.0021\r"
          ]
        },
        {
          "output_type": "stream",
          "name": "stderr",
          "text": [
            " 25%|██▌       | 76/300 [02:10<06:25,  1.72s/it]"
          ]
        },
        {
          "output_type": "stream",
          "name": "stdout",
          "text": [
            "Training loss: 0.0019\r"
          ]
        },
        {
          "output_type": "stream",
          "name": "stderr",
          "text": [
            " 29%|██▊       | 86/300 [02:28<06:08,  1.72s/it]"
          ]
        },
        {
          "output_type": "stream",
          "name": "stdout",
          "text": [
            "Training loss: 0.0019\r"
          ]
        },
        {
          "output_type": "stream",
          "name": "stderr",
          "text": [
            " 32%|███▏      | 96/300 [02:45<05:51,  1.72s/it]"
          ]
        },
        {
          "output_type": "stream",
          "name": "stdout",
          "text": [
            "Training loss: 0.0018\r"
          ]
        },
        {
          "output_type": "stream",
          "name": "stderr",
          "text": [
            " 35%|███▌      | 106/300 [03:02<05:32,  1.71s/it]"
          ]
        },
        {
          "output_type": "stream",
          "name": "stdout",
          "text": [
            "Training loss: 0.0017\r"
          ]
        },
        {
          "output_type": "stream",
          "name": "stderr",
          "text": [
            " 39%|███▊      | 116/300 [03:19<05:16,  1.72s/it]"
          ]
        },
        {
          "output_type": "stream",
          "name": "stdout",
          "text": [
            "Training loss: 0.0017\r"
          ]
        },
        {
          "output_type": "stream",
          "name": "stderr",
          "text": [
            " 42%|████▏     | 126/300 [03:36<05:00,  1.73s/it]"
          ]
        },
        {
          "output_type": "stream",
          "name": "stdout",
          "text": [
            "Training loss: 0.0016\r"
          ]
        },
        {
          "output_type": "stream",
          "name": "stderr",
          "text": [
            " 45%|████▌     | 136/300 [03:54<04:41,  1.72s/it]"
          ]
        },
        {
          "output_type": "stream",
          "name": "stdout",
          "text": [
            "Training loss: 0.0016\r"
          ]
        },
        {
          "output_type": "stream",
          "name": "stderr",
          "text": [
            " 49%|████▊     | 146/300 [04:11<04:24,  1.72s/it]"
          ]
        },
        {
          "output_type": "stream",
          "name": "stdout",
          "text": [
            "Training loss: 0.0015\r"
          ]
        },
        {
          "output_type": "stream",
          "name": "stderr",
          "text": [
            " 52%|█████▏    | 156/300 [04:28<04:08,  1.72s/it]"
          ]
        },
        {
          "output_type": "stream",
          "name": "stdout",
          "text": [
            "Training loss: 0.0015\r"
          ]
        },
        {
          "output_type": "stream",
          "name": "stderr",
          "text": [
            " 55%|█████▌    | 166/300 [04:45<03:49,  1.71s/it]"
          ]
        },
        {
          "output_type": "stream",
          "name": "stdout",
          "text": [
            "Training loss: 0.0014\r"
          ]
        },
        {
          "output_type": "stream",
          "name": "stderr",
          "text": [
            " 59%|█████▊    | 176/300 [05:02<03:33,  1.72s/it]"
          ]
        },
        {
          "output_type": "stream",
          "name": "stdout",
          "text": [
            "Training loss: 0.0014\r"
          ]
        },
        {
          "output_type": "stream",
          "name": "stderr",
          "text": [
            " 62%|██████▏   | 186/300 [05:20<03:17,  1.73s/it]"
          ]
        },
        {
          "output_type": "stream",
          "name": "stdout",
          "text": [
            "Training loss: 0.0014\r"
          ]
        },
        {
          "output_type": "stream",
          "name": "stderr",
          "text": [
            " 65%|██████▌   | 196/300 [05:37<02:59,  1.73s/it]"
          ]
        },
        {
          "output_type": "stream",
          "name": "stdout",
          "text": [
            "Training loss: 0.0014\r"
          ]
        },
        {
          "output_type": "stream",
          "name": "stderr",
          "text": [
            " 69%|██████▊   | 206/300 [05:54<02:41,  1.71s/it]"
          ]
        },
        {
          "output_type": "stream",
          "name": "stdout",
          "text": [
            "Training loss: 0.0013\r"
          ]
        },
        {
          "output_type": "stream",
          "name": "stderr",
          "text": [
            " 72%|███████▏  | 216/300 [06:11<02:24,  1.72s/it]"
          ]
        },
        {
          "output_type": "stream",
          "name": "stdout",
          "text": [
            "Training loss: 0.0013\r"
          ]
        },
        {
          "output_type": "stream",
          "name": "stderr",
          "text": [
            " 75%|███████▌  | 226/300 [06:29<02:07,  1.72s/it]"
          ]
        },
        {
          "output_type": "stream",
          "name": "stdout",
          "text": [
            "Training loss: 0.0013\r"
          ]
        },
        {
          "output_type": "stream",
          "name": "stderr",
          "text": [
            " 79%|███████▊  | 236/300 [06:46<01:49,  1.72s/it]"
          ]
        },
        {
          "output_type": "stream",
          "name": "stdout",
          "text": [
            "Training loss: 0.0013\r"
          ]
        },
        {
          "output_type": "stream",
          "name": "stderr",
          "text": [
            " 82%|████████▏ | 246/300 [07:03<01:32,  1.72s/it]"
          ]
        },
        {
          "output_type": "stream",
          "name": "stdout",
          "text": [
            "Training loss: 0.0012\r"
          ]
        },
        {
          "output_type": "stream",
          "name": "stderr",
          "text": [
            " 85%|████████▌ | 256/300 [07:20<01:15,  1.73s/it]"
          ]
        },
        {
          "output_type": "stream",
          "name": "stdout",
          "text": [
            "Training loss: 0.0012\r"
          ]
        },
        {
          "output_type": "stream",
          "name": "stderr",
          "text": [
            " 89%|████████▊ | 266/300 [07:38<00:58,  1.72s/it]"
          ]
        },
        {
          "output_type": "stream",
          "name": "stdout",
          "text": [
            "Training loss: 0.0012\r"
          ]
        },
        {
          "output_type": "stream",
          "name": "stderr",
          "text": [
            " 92%|█████████▏| 276/300 [07:55<00:41,  1.73s/it]"
          ]
        },
        {
          "output_type": "stream",
          "name": "stdout",
          "text": [
            "Training loss: 0.0012\r"
          ]
        },
        {
          "output_type": "stream",
          "name": "stderr",
          "text": [
            " 95%|█████████▌| 286/300 [08:12<00:24,  1.72s/it]"
          ]
        },
        {
          "output_type": "stream",
          "name": "stdout",
          "text": [
            "Training loss: 0.0012\r"
          ]
        },
        {
          "output_type": "stream",
          "name": "stderr",
          "text": [
            " 99%|█████████▊| 296/300 [08:29<00:06,  1.72s/it]"
          ]
        },
        {
          "output_type": "stream",
          "name": "stdout",
          "text": [
            "Training loss: 0.0012\r"
          ]
        },
        {
          "output_type": "stream",
          "name": "stderr",
          "text": [
            "100%|██████████| 300/300 [08:36<00:00,  1.72s/it]\n"
          ]
        }
      ],
      "source": [
        "my_model.fit(train_transformed,\n",
        "             future_covariates=covariates_transformed, \n",
        "             verbose=True)"
      ]
    },
    {
      "cell_type": "code",
      "execution_count": 72,
      "metadata": {
        "id": "lxjbUL5NIvge"
      },
      "outputs": [],
      "source": [
        "predicted = my_model.predict(n=len(val_transformed))"
      ]
    },
    {
      "cell_type": "code",
      "source": [
        "series_transformed.plot(label='actual')\n",
        "predicted.plot(label='forecast')\n",
        "plt.title('MAPE: {:.2f}%'.format(mape(predicted, val_transformed)))\n",
        "plt.legend()\n",
        "plt.show()"
      ],
      "metadata": {
        "colab": {
          "base_uri": "https://localhost:8080/",
          "height": 304
        },
        "id": "ilnnIdbLNd6h",
        "outputId": "4197a9aa-56a4-4dcc-a19d-d18dd42d35a8"
      },
      "execution_count": 73,
      "outputs": [
        {
          "output_type": "display_data",
          "data": {
            "image/png": "[encoded data removed]",
            "text/plain": [
              "<Figure size 432x288 with 1 Axes>"
            ]
          },
          "metadata": {
            "needs_background": "light"
          }
        }
      ]
    },
    {
      "cell_type": "code",
      "source": [
        ""
      ],
      "metadata": {
        "id": "Pg3TFGu4Nd9d"
      },
      "execution_count": null,
      "outputs": []
    },
    {
      "cell_type": "code",
      "source": [
        ""
      ],
      "metadata": {
        "id": "iY8EaxBmNeAL"
      },
      "execution_count": null,
      "outputs": []
    },
    {
      "cell_type": "code",
      "source": [
        ""
      ],
      "metadata": {
        "id": "XTOzzLI5NeC-"
      },
      "execution_count": null,
      "outputs": []
    }
  ],
  "metadata": {
    "kernelspec": {
      "display_name": "Python 3",
      "language": "python",
      "name": "python3"
    },
    "language_info": {
      "codemirror_mode": {
        "name": "ipython",
        "version": 3
      },
      "file_extension": ".py",
      "mimetype": "text/x-python",
      "name": "python",
      "nbconvert_exporter": "python",
      "pygments_lexer": "ipython3",
      "version": "3.8.10"
    },
    "colab": {
      "name": "Electricity_Data_Future.ipynb",
      "provenance": []
    }
  },
  "nbformat": 4,
  "nbformat_minor": 0
}